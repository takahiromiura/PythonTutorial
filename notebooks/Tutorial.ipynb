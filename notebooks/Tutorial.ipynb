{
 "cells": [
  {
   "cell_type": "markdown",
   "metadata": {},
   "source": [
    "# Python チュートリアル"
   ]
  },
  {
   "cell_type": "markdown",
   "metadata": {},
   "source": [
    " 実行するとエラーになるものは、`#` でコメントアウトしています。\n",
    " 実行するときは、`#` を外してください。\n",
    " ここでは、Python の基本的な文法などを見ていきます。\n",
    " まずは、お馴染みの。"
   ]
  },
  {
   "cell_type": "code",
   "execution_count": 1,
   "metadata": {},
   "outputs": [
    {
     "name": "stdout",
     "output_type": "stream",
     "text": [
      "Hello World!\n"
     ]
    }
   ],
   "source": [
    "print('Hello World!')"
   ]
  },
  {
   "cell_type": "markdown",
   "metadata": {},
   "source": [
    " 実はこの 1 行に Python のエッセンスが詰まっています。\n",
    " C などの言語では、先程の文を出すには 3 行ほど必要なのですが、その時にいろいろな **おまじない** を書かなければいけません。\n",
    " Python では、こうしたおまじないを極力書かないで済むので、自分がどういった操作をしているかが分かりやすく、学習が容易になるのです。\n",
    " Python を起動すると、**組み込み型**という基本的な型が使えます。\n",
    " 型ごとに持っている機能が異なります。\n",
    " 例えば、整数を扱うための型、文字列を扱うための型、その他にも様々な型があります。\n",
    " また、整数型、文字列型、関数などを全てを総称して ``オブジェクト`` といいます。\n",
    " まずは、**組み込み型** を学んで、Python に慣れていきましょう。"
   ]
  },
  {
   "cell_type": "markdown",
   "metadata": {},
   "source": [
    "## 変数\n",
    " さて、組み込み型を説明する前に、変数について説明しましょう。\n",
    " 変数には数字や文字などを格納することができます。\n",
    " 例えば、 `apple = 100` とすれば、 `apple` に 100 という値が格納されます。\n",
    " 数字を変数名の最初にすることは許されていません。"
   ]
  },
  {
   "cell_type": "code",
   "execution_count": 2,
   "metadata": {},
   "outputs": [],
   "source": [
    "apple = 100"
   ]
  },
  {
   "cell_type": "markdown",
   "metadata": {},
   "source": [
    " 変数の中身を呼び出すには、変数名をタイプします。"
   ]
  },
  {
   "cell_type": "code",
   "execution_count": 3,
   "metadata": {},
   "outputs": [
    {
     "data": {
      "text/plain": [
       "100"
      ]
     },
     "execution_count": 3,
     "metadata": {},
     "output_type": "execute_result"
    }
   ],
   "source": [
    "apple"
   ]
  },
  {
   "cell_type": "markdown",
   "metadata": {},
   "source": [
    " 何も格納していない変数を参照した場合は、エラーが返ってきます。\n",
    " 例えば、次を実行すると、`NameError` が返ってきます。"
   ]
  },
  {
   "cell_type": "code",
   "execution_count": 4,
   "metadata": {},
   "outputs": [],
   "source": [
    "# orange\n"
   ]
  },
  {
   "cell_type": "markdown",
   "metadata": {},
   "source": [
    "## エラー\n",
    " プログラミングをしていく中で、エラーは必ず起こります。\n",
    " ですが、エラーが出たからといって、気落ちしないでください。\n",
    " エラーが起きたら、エラーの内容をよく読んでみましょう。\n",
    " 例えば、先の場合は、`NameError: name 'orange' is not defined` という内容です。\n",
    " これは、`orange` という変数はまだ定義されていませんということです。\n",
    " それでは、次に `orange = 150` と打ってみてから、`orange`を参照してみましょう。今度はエラーが出ないはずです。"
   ]
  },
  {
   "cell_type": "code",
   "execution_count": 5,
   "metadata": {},
   "outputs": [
    {
     "data": {
      "text/plain": [
       "150"
      ]
     },
     "execution_count": 5,
     "metadata": {},
     "output_type": "execute_result"
    }
   ],
   "source": [
    "orange = 150\n",
    "orange"
   ]
  },
  {
   "cell_type": "markdown",
   "metadata": {},
   "source": [
    " エラーの内容を読んでもよくわからなかった場合、エラーの内容をコピーして、ググりましょう。\n",
    " プログラミングに関する Q & A ウェブサイトとして、[stack overflow](https://stackoverflow.com/) が有名です。\n",
    " ほとんどの場合、こちらを参照すれば同じような問題を抱えた人がいて、それに対する答えも提供されていることでしょう（基本的に英語です）。\n",
    " また、 [teratail](https://teratail.com/) という日本のサイトもあります。\n",
    " 調べても答えが得られなかった場合は、上記の2つで質問してみるのもよいでしょう。\n",
    " 他にも、モジュールの使い方がいまいちわからない場合、 [Qiita](http://qiita.com/) で検索してみましょう。\n",
    " そのモジュールを使用した記事があるかもしれません。"
   ]
  },
  {
   "cell_type": "markdown",
   "metadata": {},
   "source": [
    "## 基本的な型"
   ]
  },
  {
   "cell_type": "markdown",
   "metadata": {},
   "source": [
    "### int (整数）型\n",
    " 整数型は値に整数を持ちます。\n",
    " あまり説明する必要はないかもしれません。\n",
    " 次の例は整数型です。"
   ]
  },
  {
   "cell_type": "code",
   "execution_count": 6,
   "metadata": {},
   "outputs": [
    {
     "data": {
      "text/plain": [
       "1"
      ]
     },
     "execution_count": 6,
     "metadata": {},
     "output_type": "execute_result"
    }
   ],
   "source": [
    "1"
   ]
  },
  {
   "cell_type": "markdown",
   "metadata": {},
   "source": [
    "### float (小数点) 型\n",
    " 小数点型は値に小数点を持ちます。\n",
    " 整数の後に `.` をつけることで小数点型になります。\n",
    " 次の例は小数点型です。"
   ]
  },
  {
   "cell_type": "code",
   "execution_count": 7,
   "metadata": {},
   "outputs": [
    {
     "data": {
      "text/plain": [
       "1.0"
      ]
     },
     "execution_count": 7,
     "metadata": {},
     "output_type": "execute_result"
    }
   ],
   "source": [
    "1.0"
   ]
  },
  {
   "cell_type": "markdown",
   "metadata": {},
   "source": [
    "### 基本的な演算子\n",
    " Python では四則演算、累乗、剰余は次のように行います。\n",
    "\n",
    " * 加算: `+`\n",
    " * 減算: `-`\n",
    " * 乗算: `*`\n",
    " * 除算: `/`\n",
    " * 累乗: `**`\n",
    " * 剰余: `%`"
   ]
  },
  {
   "cell_type": "code",
   "execution_count": 8,
   "metadata": {},
   "outputs": [
    {
     "data": {
      "text/plain": [
       "2"
      ]
     },
     "execution_count": 8,
     "metadata": {},
     "output_type": "execute_result"
    }
   ],
   "source": [
    "1 + 1"
   ]
  },
  {
   "cell_type": "code",
   "execution_count": 9,
   "metadata": {},
   "outputs": [
    {
     "data": {
      "text/plain": [
       "1"
      ]
     },
     "execution_count": 9,
     "metadata": {},
     "output_type": "execute_result"
    }
   ],
   "source": [
    "3 - 2"
   ]
  },
  {
   "cell_type": "code",
   "execution_count": 10,
   "metadata": {},
   "outputs": [
    {
     "data": {
      "text/plain": [
       "28"
      ]
     },
     "execution_count": 10,
     "metadata": {},
     "output_type": "execute_result"
    }
   ],
   "source": [
    "4 * 7"
   ]
  },
  {
   "cell_type": "code",
   "execution_count": 11,
   "metadata": {},
   "outputs": [
    {
     "data": {
      "text/plain": [
       "2.6666666666666665"
      ]
     },
     "execution_count": 11,
     "metadata": {},
     "output_type": "execute_result"
    }
   ],
   "source": [
    "8 / 3"
   ]
  },
  {
   "cell_type": "code",
   "execution_count": 12,
   "metadata": {},
   "outputs": [
    {
     "data": {
      "text/plain": [
       "16"
      ]
     },
     "execution_count": 12,
     "metadata": {},
     "output_type": "execute_result"
    }
   ],
   "source": [
    "2 ** 4"
   ]
  },
  {
   "cell_type": "code",
   "execution_count": 13,
   "metadata": {},
   "outputs": [
    {
     "data": {
      "text/plain": [
       "0"
      ]
     },
     "execution_count": 13,
     "metadata": {},
     "output_type": "execute_result"
    }
   ],
   "source": [
    "6 % 2"
   ]
  },
  {
   "cell_type": "markdown",
   "metadata": {},
   "source": [
    "### str (文字列) 型\n",
    " 文字列型は値に文字列を持ちます。\n",
    " 文字列の前後を シングルクォート ` かダブルクォート \"  で囲みます。\n",
    " 次の例は文字列型です。"
   ]
  },
  {
   "cell_type": "code",
   "execution_count": 14,
   "metadata": {},
   "outputs": [
    {
     "data": {
      "text/plain": [
       "'string'"
      ]
     },
     "execution_count": 14,
     "metadata": {},
     "output_type": "execute_result"
    }
   ],
   "source": [
    "'string'"
   ]
  },
  {
   "cell_type": "markdown",
   "metadata": {},
   "source": [
    " 文字列は足すことができます。\n",
    " しかし、引くことはできません。"
   ]
  },
  {
   "cell_type": "code",
   "execution_count": 15,
   "metadata": {},
   "outputs": [
    {
     "data": {
      "text/plain": [
       "'string'"
      ]
     },
     "execution_count": 15,
     "metadata": {},
     "output_type": "execute_result"
    }
   ],
   "source": [
    "'str' + 'ing'"
   ]
  },
  {
   "cell_type": "code",
   "execution_count": 16,
   "metadata": {},
   "outputs": [],
   "source": [
    "# 'string' - 'ing'\n"
   ]
  },
  {
   "cell_type": "markdown",
   "metadata": {},
   "source": [
    "### list (リスト)\n",
    " リストは複数の値を持つことができます。リストを作るには、かぎかっこ `[]` を使います。\n",
    " 複数の要素を持つリストを作る場合は、各要素を `,` で分けます。"
   ]
  },
  {
   "cell_type": "code",
   "execution_count": 17,
   "metadata": {},
   "outputs": [
    {
     "data": {
      "text/plain": [
       "[1, 2, 3]"
      ]
     },
     "execution_count": 17,
     "metadata": {},
     "output_type": "execute_result"
    }
   ],
   "source": [
    "[1, 2, 3]"
   ]
  },
  {
   "cell_type": "markdown",
   "metadata": {},
   "source": [
    " リストの中には、異なる型を入れられます。"
   ]
  },
  {
   "cell_type": "code",
   "execution_count": 18,
   "metadata": {},
   "outputs": [
    {
     "data": {
      "text/plain": [
       "[1, 3.14, 'string']"
      ]
     },
     "execution_count": 18,
     "metadata": {},
     "output_type": "execute_result"
    }
   ],
   "source": [
    "[1, 3.14, 'string']"
   ]
  },
  {
   "cell_type": "markdown",
   "metadata": {},
   "source": [
    " リストとリストは足すことができますが、引くことはできません。"
   ]
  },
  {
   "cell_type": "code",
   "execution_count": 19,
   "metadata": {},
   "outputs": [
    {
     "data": {
      "text/plain": [
       "[1, 2, 3, 4, 5, 6]"
      ]
     },
     "execution_count": 19,
     "metadata": {},
     "output_type": "execute_result"
    }
   ],
   "source": [
    "[1, 2, 3] + [4, 5, 6]"
   ]
  },
  {
   "cell_type": "markdown",
   "metadata": {},
   "source": [
    " リストの各要素を参照するには、かぎかっこ `[]` を用い、かぎかっこの中に参照したい要素の番号（インデックス）を入れます。\n",
    " R とは違い、 Python では、要素の番号は 0 から始まります（ R では 1 から）。\n",
    " リストにない番号を参照するとエラーが返ってきます。"
   ]
  },
  {
   "cell_type": "code",
   "execution_count": 20,
   "metadata": {},
   "outputs": [
    {
     "data": {
      "text/plain": [
       "[1, 2, 3]"
      ]
     },
     "execution_count": 20,
     "metadata": {},
     "output_type": "execute_result"
    }
   ],
   "source": [
    "num_list = [1, 2, 3]\n",
    "num_list"
   ]
  },
  {
   "cell_type": "code",
   "execution_count": 21,
   "metadata": {},
   "outputs": [
    {
     "data": {
      "text/plain": [
       "1"
      ]
     },
     "execution_count": 21,
     "metadata": {},
     "output_type": "execute_result"
    }
   ],
   "source": [
    "num_list[0]"
   ]
  },
  {
   "cell_type": "code",
   "execution_count": 22,
   "metadata": {},
   "outputs": [],
   "source": [
    "# num_list[4]\n"
   ]
  },
  {
   "cell_type": "markdown",
   "metadata": {},
   "source": [
    " マイナスの番号を入れると、後ろから参照します。"
   ]
  },
  {
   "cell_type": "code",
   "execution_count": 23,
   "metadata": {},
   "outputs": [
    {
     "data": {
      "text/plain": [
       "3"
      ]
     },
     "execution_count": 23,
     "metadata": {},
     "output_type": "execute_result"
    }
   ],
   "source": [
    "num_list[-1]"
   ]
  },
  {
   "cell_type": "markdown",
   "metadata": {},
   "source": [
    "### dict (辞書) 型\n",
    " 辞書は、キーと値をセットで使います。辞書を作るには、なみかっこ `{}` を使います。\n",
    " `{キー：値}` という順番で各要素を作成します。\n",
    " 複数のキーと値を持つ辞書を作る場合は、各要素を `,` で分けます。"
   ]
  },
  {
   "cell_type": "code",
   "execution_count": 24,
   "metadata": {},
   "outputs": [
    {
     "data": {
      "text/plain": [
       "{'apple': 100, 'orange': 150}"
      ]
     },
     "execution_count": 24,
     "metadata": {},
     "output_type": "execute_result"
    }
   ],
   "source": [
    "{'apple': 100, 'orange': 150}"
   ]
  },
  {
   "cell_type": "markdown",
   "metadata": {},
   "source": [
    " 辞書の要素を参照するには、`[]` を用います。\n",
    " `[]` の中にキーとなる値を入れると、そのキーに対応する値が返ってきます。\n",
    " キー以外の値を参照しようとすると、エラーが返ってきます。"
   ]
  },
  {
   "cell_type": "code",
   "execution_count": 25,
   "metadata": {},
   "outputs": [
    {
     "data": {
      "text/plain": [
       "{'apple': 100, 'orange': 150}"
      ]
     },
     "execution_count": 25,
     "metadata": {},
     "output_type": "execute_result"
    }
   ],
   "source": [
    "fruits = {'apple': 100, 'orange': 150}\n",
    "fruits"
   ]
  },
  {
   "cell_type": "code",
   "execution_count": 26,
   "metadata": {},
   "outputs": [
    {
     "data": {
      "text/plain": [
       "100"
      ]
     },
     "execution_count": 26,
     "metadata": {},
     "output_type": "execute_result"
    }
   ],
   "source": [
    "fruits['apple']"
   ]
  },
  {
   "cell_type": "code",
   "execution_count": 27,
   "metadata": {},
   "outputs": [],
   "source": [
    "# fruits['melon']\n"
   ]
  },
  {
   "cell_type": "markdown",
   "metadata": {},
   "source": [
    " 新たにキーと値を追加するには、`辞書[キー] = 値` とします。"
   ]
  },
  {
   "cell_type": "code",
   "execution_count": 28,
   "metadata": {},
   "outputs": [
    {
     "data": {
      "text/plain": [
       "500"
      ]
     },
     "execution_count": 28,
     "metadata": {},
     "output_type": "execute_result"
    }
   ],
   "source": [
    "fruits['melon'] = 500\n",
    "fruits['melon']"
   ]
  },
  {
   "cell_type": "markdown",
   "metadata": {},
   "source": [
    "### tuple (タプル)\n",
    " タプルはリストと同じように複数の要素を持つことができます。\n",
    " また、各要素の参照もリストと同じです。\n",
    " しかし、リストと違うのは、要素の追加、削除、編集ができないということです。\n",
    " 意図せず値を書き換えてしまうことを防ぎたい場合は、タプルを使うとよいでしょう。"
   ]
  },
  {
   "cell_type": "code",
   "execution_count": 29,
   "metadata": {},
   "outputs": [
    {
     "data": {
      "text/plain": [
       "('taxi', 'bus')"
      ]
     },
     "execution_count": 29,
     "metadata": {},
     "output_type": "execute_result"
    }
   ],
   "source": [
    "car = ('taxi', 'bus')\n",
    "car"
   ]
  },
  {
   "cell_type": "code",
   "execution_count": 30,
   "metadata": {},
   "outputs": [
    {
     "data": {
      "text/plain": [
       "'taxi'"
      ]
     },
     "execution_count": 30,
     "metadata": {},
     "output_type": "execute_result"
    }
   ],
   "source": [
    "car[0]"
   ]
  },
  {
   "cell_type": "code",
   "execution_count": 31,
   "metadata": {},
   "outputs": [],
   "source": [
    "# car[0] = 'truck'\n"
   ]
  },
  {
   "cell_type": "markdown",
   "metadata": {},
   "source": [
    " ちなみに、要素が 1 つのみのタプルを作るときには、`(i, )` とします。"
   ]
  },
  {
   "cell_type": "markdown",
   "metadata": {},
   "source": [
    "### スライス\n",
    " リスト、タプルなどで、複数の要素を参照したい場合は、*スライス* を使います。\n",
    " i 番目の要素を参照するには、`[i]` でしたが、  `[i:j]` とすると、i 番目から j - 1 番目までの要素を参照します。\n",
    " 以下はリストの参照の例です。"
   ]
  },
  {
   "cell_type": "code",
   "execution_count": 32,
   "metadata": {},
   "outputs": [
    {
     "data": {
      "text/plain": [
       "[1, 2, 3]"
      ]
     },
     "execution_count": 32,
     "metadata": {},
     "output_type": "execute_result"
    }
   ],
   "source": [
    "num_list = [1, 2, 3]\n",
    "num_list"
   ]
  },
  {
   "cell_type": "code",
   "execution_count": 33,
   "metadata": {},
   "outputs": [
    {
     "data": {
      "text/plain": [
       "[1, 2]"
      ]
     },
     "execution_count": 33,
     "metadata": {},
     "output_type": "execute_result"
    }
   ],
   "source": [
    "num_list[0:2]"
   ]
  },
  {
   "cell_type": "markdown",
   "metadata": {},
   "source": [
    " k 番目からの要素を全て参照する場合には、`[k:]` とします。"
   ]
  },
  {
   "cell_type": "code",
   "execution_count": 34,
   "metadata": {},
   "outputs": [
    {
     "data": {
      "text/plain": [
       "[2, 3]"
      ]
     },
     "execution_count": 34,
     "metadata": {},
     "output_type": "execute_result"
    }
   ],
   "source": [
    "num_list[1:]"
   ]
  },
  {
   "cell_type": "markdown",
   "metadata": {},
   "source": [
    " 逆に、0 番目から k - 1 番目までを参照するには、`[:k]` とします。"
   ]
  },
  {
   "cell_type": "code",
   "execution_count": 35,
   "metadata": {},
   "outputs": [
    {
     "data": {
      "text/plain": [
       "[1, 2]"
      ]
     },
     "execution_count": 35,
     "metadata": {},
     "output_type": "execute_result"
    }
   ],
   "source": [
    "num_list[:2]"
   ]
  },
  {
   "cell_type": "markdown",
   "metadata": {},
   "source": [
    " ちなみに、文字列もインデックスが振られているので、文字列の一部のみを参照することができます。"
   ]
  },
  {
   "cell_type": "code",
   "execution_count": 36,
   "metadata": {},
   "outputs": [
    {
     "data": {
      "text/plain": [
       "'str'"
      ]
     },
     "execution_count": 36,
     "metadata": {},
     "output_type": "execute_result"
    }
   ],
   "source": [
    "'string'[:3]"
   ]
  },
  {
   "cell_type": "markdown",
   "metadata": {},
   "source": [
    "## メソッド (Method)\n",
    " オブジェクトには、固有の関数が用意されています。これをメソッドといいます。\n",
    " 文字列型には例えば、次のようなメソッドが用意されています。\n",
    " * `lower`: 文字列を小文字にする\n",
    " * `upper`: 文字列を大文字にする\n",
    " * `split`: 文字列を指定した境界にしたがって、分割し、リストを作る\n",
    "\n",
    " リスト型には例えば、次のようなメソッドが用意されています。\n",
    " * `append`: リストに要素を追加する\n",
    " * `extend`: リストにリストを追加する\n",
    " * `remove`: 指定した値をリストから除外する\n",
    "\n",
    " メソッドを使うには、型を作成し、`オブジェクト.メソッド(引数)` とします。例を見てみましょう。"
   ]
  },
  {
   "cell_type": "code",
   "execution_count": 37,
   "metadata": {},
   "outputs": [
    {
     "data": {
      "text/plain": [
       "'JAPAN'"
      ]
     },
     "execution_count": 37,
     "metadata": {},
     "output_type": "execute_result"
    }
   ],
   "source": [
    "jp = 'japan'\n",
    "jp.upper()"
   ]
  },
  {
   "cell_type": "code",
   "execution_count": 38,
   "metadata": {},
   "outputs": [
    {
     "data": {
      "text/plain": [
       "'japan'"
      ]
     },
     "execution_count": 38,
     "metadata": {},
     "output_type": "execute_result"
    }
   ],
   "source": [
    "JP = 'JAPAN'\n",
    "JP.lower()"
   ]
  },
  {
   "cell_type": "code",
   "execution_count": 39,
   "metadata": {},
   "outputs": [
    {
     "data": {
      "text/plain": [
       "['japan', 'korea', 'america']"
      ]
     },
     "execution_count": 39,
     "metadata": {},
     "output_type": "execute_result"
    }
   ],
   "source": [
    "countries = 'japan,korea,america'\n",
    "countries.split(',')"
   ]
  },
  {
   "cell_type": "code",
   "execution_count": 40,
   "metadata": {},
   "outputs": [
    {
     "data": {
      "text/plain": [
       "[1, 3, 5]"
      ]
     },
     "execution_count": 40,
     "metadata": {},
     "output_type": "execute_result"
    }
   ],
   "source": [
    "odd_num = [1, 3, 5]\n",
    "odd_num"
   ]
  },
  {
   "cell_type": "code",
   "execution_count": 41,
   "metadata": {},
   "outputs": [
    {
     "data": {
      "text/plain": [
       "[1, 3, 5, 7]"
      ]
     },
     "execution_count": 41,
     "metadata": {},
     "output_type": "execute_result"
    }
   ],
   "source": [
    "odd_num = [1, 3, 5]\n",
    "odd_num.append(7)\n",
    "odd_num"
   ]
  },
  {
   "cell_type": "code",
   "execution_count": 42,
   "metadata": {},
   "outputs": [
    {
     "data": {
      "text/plain": [
       "[1, 3, 5, 7, 9, 11]"
      ]
     },
     "execution_count": 42,
     "metadata": {},
     "output_type": "execute_result"
    }
   ],
   "source": [
    "odd_num.extend([9, 11])\n",
    "odd_num"
   ]
  },
  {
   "cell_type": "code",
   "execution_count": 43,
   "metadata": {},
   "outputs": [
    {
     "data": {
      "text/plain": [
       "[1, 3, 7, 9, 11]"
      ]
     },
     "execution_count": 43,
     "metadata": {},
     "output_type": "execute_result"
    }
   ],
   "source": [
    "odd_num.remove(5)\n",
    "odd_num"
   ]
  },
  {
   "cell_type": "markdown",
   "metadata": {},
   "source": [
    " メソッドには破壊的メソッドと非破壊的メソッドがあります。\n",
    " 破壊的メソッドは、メソッドを呼び出したオブジェクトの値そのものを変更します。\n",
    " 一方、非破壊的メソッドは、新たなオブジェクトを返します。\n",
    " 例えば、``lower``, ``upper``, ``split`` は非破壊的メソッド、``append``, ``extend``, ``remove`` は破壊的メソッドです。\n",
    " 引数が必要でない場合も、`()` を忘れると、関数の戻り値ではなく関数自体が返ってきますので注意してください。"
   ]
  },
  {
   "cell_type": "code",
   "execution_count": 44,
   "metadata": {},
   "outputs": [
    {
     "data": {
      "text/plain": [
       "<function str.upper()>"
      ]
     },
     "execution_count": 44,
     "metadata": {},
     "output_type": "execute_result"
    }
   ],
   "source": [
    "jp.upper"
   ]
  },
  {
   "cell_type": "markdown",
   "metadata": {},
   "source": [
    " これまでに、いくつかの基本的な型を説明してきました。\n",
    " 各オブジェクトには様々な特徴があり、またそれぞれ固有の関数（メソッド）を持っています。\n",
    " くぎを打つ場合には金づちを使い、木を切る場合にはのこぎりを使います。\n",
    " 同じように、使用目的によって、型を使い分けることが重要です。"
   ]
  },
  {
   "cell_type": "markdown",
   "metadata": {},
   "source": [
    "## ループ文\n",
    " 似たような操作を繰り返したい場合、例えば、1 から 10 までの整数を順に出力したい場合などには、ループ文を使うとよいでしょう。\n",
    " Python では、 `for`, `while` がよく用いられます。1 つずつその性質を見ていきましょう。"
   ]
  },
  {
   "cell_type": "markdown",
   "metadata": {},
   "source": [
    "### for\n",
    " `for` は、リストやタプルなどからその中の要素を逐次的に引き出す場合に使われます。\n",
    " 例えば、次のようにします。"
   ]
  },
  {
   "cell_type": "code",
   "execution_count": 45,
   "metadata": {},
   "outputs": [
    {
     "name": "stdout",
     "output_type": "stream",
     "text": [
      "1\n",
      "2\n",
      "3\n"
     ]
    }
   ],
   "source": [
    "for i in [1, 2, 3]:\n",
    "    print(i)\n"
   ]
  },
  {
   "cell_type": "markdown",
   "metadata": {},
   "source": [
    " `print` はその名の通り、`()` 内の値を出力したい場合に用いる関数です。\n",
    " 上の文では、`i` にリスト `[1, 2, 3]` の各要素が順に代入されていきます。\n",
    " Python では、他のプログラミング言語と違い、**インデント（字下げ）** が意味を持ちます。\n",
    " ループや、関数、クラスの定義の際には、直下のインデントした文がループ文、関数、クラスの定義の文になります。\n",
    " 詳しく見てみましょう。"
   ]
  },
  {
   "cell_type": "code",
   "execution_count": 46,
   "metadata": {},
   "outputs": [
    {
     "name": "stdout",
     "output_type": "stream",
     "text": [
      "10\n",
      "4\n"
     ]
    }
   ],
   "source": [
    "j = 0\n",
    "k = 0\n",
    "for i in [1, 2, 3, 4]:\n",
    "    j += i\n",
    "\n",
    "k += i\n",
    "\n",
    "print(j)\n",
    "print(k)"
   ]
  },
  {
   "cell_type": "markdown",
   "metadata": {},
   "source": [
    " `j += 1` は、`j = j + i` と同じです。\n",
    " インデントしている文はループが実行されていますが、その下のインデントがされていない文はループが実行されていません。\n",
    " したがって、`j` は `1 + 2 + 3 + 4` の値が格納されますが、`k` はループの最後に `i` がとる値、`4` のみが格納されます。\n",
    " また、特に理由のないインデントは、エラーになります。"
   ]
  },
  {
   "cell_type": "code",
   "execution_count": 47,
   "metadata": {},
   "outputs": [],
   "source": [
    "# 1\n",
    "#     'a'\n"
   ]
  },
  {
   "cell_type": "markdown",
   "metadata": {},
   "source": [
    " もちろん、インデントがない場合もエラーになります。"
   ]
  },
  {
   "cell_type": "code",
   "execution_count": 48,
   "metadata": {},
   "outputs": [],
   "source": [
    "# for i in [1, 3 ,4]:\n",
    "# print(i)\n"
   ]
  },
  {
   "cell_type": "markdown",
   "metadata": {},
   "source": [
    " `for i in [1, 2, 3]` は `range` 型を使って、 `for i in range(1, 4)` でも実行できます。\n",
    " `range` 型は `range(b)` とした場合、`0` から `b - 1` までの値を順に返します。\n",
    " `range(a, b)` のときは、`a` から `b - 1` までです。"
   ]
  },
  {
   "cell_type": "code",
   "execution_count": 49,
   "metadata": {},
   "outputs": [
    {
     "name": "stdout",
     "output_type": "stream",
     "text": [
      "0\n",
      "1\n",
      "2\n",
      "3\n"
     ]
    }
   ],
   "source": [
    "for i in range(4):\n",
    "    print(i)\n"
   ]
  },
  {
   "cell_type": "code",
   "execution_count": 50,
   "metadata": {},
   "outputs": [
    {
     "name": "stdout",
     "output_type": "stream",
     "text": [
      "1\n",
      "2\n",
      "3\n"
     ]
    }
   ],
   "source": [
    "for i in range(1, 4):\n",
    "    print(i)\n"
   ]
  },
  {
   "cell_type": "markdown",
   "metadata": {},
   "source": [
    "### while\n",
    " `while` は指定した条件式が真の場合にループ文を実行し、条件式が偽になるとループをやめます。\n",
    " 例えば、次のようにします。"
   ]
  },
  {
   "cell_type": "code",
   "execution_count": 51,
   "metadata": {},
   "outputs": [
    {
     "name": "stdout",
     "output_type": "stream",
     "text": [
      "0\n",
      "1\n",
      "2\n",
      "3\n",
      "4\n"
     ]
    }
   ],
   "source": [
    "i = 0\n",
    "while i < 5:\n",
    "    print(i)\n",
    "    i += 1\n"
   ]
  },
  {
   "cell_type": "markdown",
   "metadata": {},
   "source": [
    " 上の文は `i` が 5 より小さい場合という条件式が真の場合にループ文を実行するということです。\n",
    " また、ループ文の最後に `i` の値に 1 を足しています。\n",
    " `while` は終わらないループを繰り返すことにもなりかねないので、注意しましょう。\n",
    " ループが終わらない場合は、 ■ を押すか、`Ctrl + C` でコードの実行を中止しましょう。"
   ]
  },
  {
   "cell_type": "markdown",
   "metadata": {},
   "source": [
    "## 条件分岐\n",
    " 条件分岐は `if` で行えます。\n",
    " 実行文はインデントで字下げします。\n",
    " 次のような形になります。\n",
    "\n",
    "     if [条件式]:\n",
    "         実行文\n",
    "\n"
   ]
  },
  {
   "cell_type": "code",
   "execution_count": 52,
   "metadata": {},
   "outputs": [
    {
     "name": "stdout",
     "output_type": "stream",
     "text": [
      "True\n"
     ]
    }
   ],
   "source": [
    "a = 0\n",
    "if a == 0:\n",
    "    print('True')\n"
   ]
  },
  {
   "cell_type": "markdown",
   "metadata": {},
   "source": [
    " `elif` によって複数の条件分岐ができます。\n",
    " 上から条件式を満たすかが判断されていきます。\n",
    " `else` は、`if` と `elif` を満たさなかった場合のみ実行されます。"
   ]
  },
  {
   "cell_type": "code",
   "execution_count": 53,
   "metadata": {},
   "outputs": [
    {
     "name": "stdout",
     "output_type": "stream",
     "text": [
      "other\n"
     ]
    }
   ],
   "source": [
    "a == 3\n",
    "if a == 1:\n",
    "    print('1')\n",
    "\n",
    "elif a == 2:\n",
    "    print('2')\n",
    "\n",
    "else:\n",
    "    print('other')\n"
   ]
  },
  {
   "cell_type": "markdown",
   "metadata": {},
   "source": [
    "## 関数\n",
    " 何度も同じような操作を何度も使うには、関数を用いましょう。\n",
    " 関数を使うと、操作を再利用することができます。\n",
    " 関数は次のように `def` を使って定義します。"
   ]
  },
  {
   "cell_type": "code",
   "execution_count": 54,
   "metadata": {},
   "outputs": [],
   "source": [
    "def return_2():\n",
    "    x = 2\n",
    "    return x\n"
   ]
  },
  {
   "cell_type": "code",
   "execution_count": 55,
   "metadata": {},
   "outputs": [
    {
     "data": {
      "text/plain": [
       "2"
      ]
     },
     "execution_count": 55,
     "metadata": {},
     "output_type": "execute_result"
    }
   ],
   "source": [
    "return_2()"
   ]
  },
  {
   "cell_type": "markdown",
   "metadata": {},
   "source": [
    " ループ文の場合と同じで、関数の定義もインデントして書きます。\n",
    " 引数をもつ関数を定義するには引数を `()` 内で指定します。"
   ]
  },
  {
   "cell_type": "code",
   "execution_count": 56,
   "metadata": {},
   "outputs": [],
   "source": [
    "def multiple_2(x):\n",
    "    x2 = x * 2\n",
    "    return x2\n"
   ]
  },
  {
   "cell_type": "code",
   "execution_count": 57,
   "metadata": {},
   "outputs": [
    {
     "data": {
      "text/plain": [
       "6"
      ]
     },
     "execution_count": 57,
     "metadata": {},
     "output_type": "execute_result"
    }
   ],
   "source": [
    "multiple_2(3)"
   ]
  },
  {
   "cell_type": "markdown",
   "metadata": {},
   "source": [
    " 関数によって返される戻り値は `return` で指定します。\n",
    " `return` の下は実行されないので、注意してください。"
   ]
  },
  {
   "cell_type": "code",
   "execution_count": 58,
   "metadata": {},
   "outputs": [
    {
     "name": "stdout",
     "output_type": "stream",
     "text": [
      "above return\n"
     ]
    },
    {
     "data": {
      "text/plain": [
       "2"
      ]
     },
     "execution_count": 58,
     "metadata": {},
     "output_type": "execute_result"
    }
   ],
   "source": [
    "def with_print():\n",
    "    x = 2\n",
    "    print('above return')\n",
    "    return x\n",
    "    print('under return')\n",
    "\n",
    "with_print()"
   ]
  },
  {
   "cell_type": "markdown",
   "metadata": {},
   "source": [
    " 引数の数を任意にすることも可能です。\n",
    " 引数に `*args` を入れると、指定した数以上の引数は `args` にタプルとして格納されます。\n",
    " また、引数に `**kwargs` を入れると、指定した数以上の `key=value` という引数は `kwargs` に辞書として格納されます。"
   ]
  },
  {
   "cell_type": "code",
   "execution_count": 59,
   "metadata": {},
   "outputs": [
    {
     "name": "stdout",
     "output_type": "stream",
     "text": [
      "(1, 2, 3)\n"
     ]
    }
   ],
   "source": [
    "def multi_arg(*args):\n",
    "    print(args)\n",
    "\n",
    "multi_arg(1, 2, 3)"
   ]
  },
  {
   "cell_type": "code",
   "execution_count": 60,
   "metadata": {},
   "outputs": [
    {
     "name": "stdout",
     "output_type": "stream",
     "text": [
      "{'a': 1, 'b': 2}\n"
     ]
    }
   ],
   "source": [
    "def multi_kwargs(**kwargs):\n",
    "    print(kwargs)\n",
    "\n",
    "multi_kwargs(a=1, b=2)"
   ]
  },
  {
   "cell_type": "markdown",
   "metadata": {},
   "source": [
    "### 無名関数\n",
    " `def` とは違い、簡単にかける無名関数というものあります。`lambda x: function` とすることで無名関数を作成できます。"
   ]
  },
  {
   "cell_type": "code",
   "execution_count": 61,
   "metadata": {},
   "outputs": [
    {
     "data": {
      "text/plain": [
       "4"
      ]
     },
     "execution_count": 61,
     "metadata": {},
     "output_type": "execute_result"
    }
   ],
   "source": [
    "f = lambda y: y * 2\n",
    "f(2)"
   ]
  },
  {
   "cell_type": "markdown",
   "metadata": {},
   "source": [
    "### スコープ\n",
    " 関数内で変数を定義しても、関数外で参照することはできません。見てみましょう。"
   ]
  },
  {
   "cell_type": "code",
   "execution_count": 62,
   "metadata": {},
   "outputs": [
    {
     "name": "stdout",
     "output_type": "stream",
     "text": [
      "local variable\n"
     ]
    }
   ],
   "source": [
    "def local_x():\n",
    "    who_am_I = 'local variable'\n",
    "    print(who_am_I)\n",
    "\n",
    "local_x()"
   ]
  },
  {
   "cell_type": "code",
   "execution_count": 63,
   "metadata": {},
   "outputs": [],
   "source": [
    "# who_am_I\n"
   ]
  },
  {
   "cell_type": "markdown",
   "metadata": {},
   "source": [
    " 確かに関数内では変数を定義しているし、関数内では参照できているのですが、関数外では参照することができませんでした。\n",
    " 変数や関数を参照できる範囲を **スコープ** と呼びます。\n",
    " 関数内で定義した変数を **ローカル変数** といいます。ローカル変数のスコープは定義された変数の中になります。\n",
    " 一方、いままで定義していた変数は **グローバル変数** といいます。こちらは関数内外で参照することができます。"
   ]
  },
  {
   "cell_type": "code",
   "execution_count": 64,
   "metadata": {},
   "outputs": [
    {
     "data": {
      "text/plain": [
       "'global variable'"
      ]
     },
     "execution_count": 64,
     "metadata": {},
     "output_type": "execute_result"
    }
   ],
   "source": [
    "I_am = 'global variable'\n",
    "I_am"
   ]
  },
  {
   "cell_type": "code",
   "execution_count": 65,
   "metadata": {},
   "outputs": [
    {
     "name": "stdout",
     "output_type": "stream",
     "text": [
      "global variable\n"
     ]
    }
   ],
   "source": [
    "def ref_global():\n",
    "    print(I_am)\n",
    "\n",
    "ref_global()"
   ]
  },
  {
   "cell_type": "markdown",
   "metadata": {},
   "source": [
    " さて、こうしたローカル変数およびスコープというものがあると何が嬉しいのでしょうか。\n",
    " 一つは、関数の影響を最小限にとどめられるということです。\n",
    " 例えば、関数の中と外で `x` という変数を定義していて、\n",
    " 関数を呼び出すたびに `x` の値が書き換わっていたらどうでしょうか。\n",
    " 変数を定義するたびに、関数の中の変数もチェックして、変数名が被っていないかを考えなくてはいけません。\n",
    " 数行程度ならばできるでしょうが、数百、数千行のコードとなると、全ての変数名を把握するのは難しいでしょう。\n",
    " ローカル変数は参照の範囲をあえて狭めることによって、そういったことを防ぐ役割を果たすのです。"
   ]
  },
  {
   "cell_type": "markdown",
   "metadata": {},
   "source": [
    "## モジュールのインポート\n",
    " Python を起動したときにすでにいくつかの型、関数を使うことができます（これらを組み込み型、組み込み関数といいます）。\n",
    " R を使ったことがある人はおなじみかも知れませんが、R では `library` を使うことによって、使える型、関数を追加することができます。\n",
    " Python では、モジュールを追加するには、`import` を使います。\n",
    " ここでは、時間に関する操作に役立つ、`datetime` モジュールを使えるようにしてみましょう。"
   ]
  },
  {
   "cell_type": "code",
   "execution_count": 66,
   "metadata": {},
   "outputs": [],
   "source": [
    "import datetime"
   ]
  },
  {
   "cell_type": "markdown",
   "metadata": {},
   "source": [
    " 無事追加できた場合には、特になにも結果がでません。\n",
    " 存在しないモジュールを追加しようとした場合には、エラーが返ってきます。"
   ]
  },
  {
   "cell_type": "code",
   "execution_count": 67,
   "metadata": {},
   "outputs": [],
   "source": [
    "# import datetime_time\n"
   ]
  },
  {
   "cell_type": "markdown",
   "metadata": {},
   "source": [
    " `datetime` モジュールには、様々なデータ型が用意されています。\n",
    " モジュールから特定の部分のみを追加したい場合は、`from モジュール名 import 名前` とします。"
   ]
  },
  {
   "cell_type": "code",
   "execution_count": 68,
   "metadata": {},
   "outputs": [],
   "source": [
    "from datetime import timedelta"
   ]
  },
  {
   "cell_type": "markdown",
   "metadata": {},
   "source": [
    " 追加したモジュールの関数を使いたい場合は、`モジュール名.名前` で使用できます。\n",
    " それでは、`datetime` 型を作ってみましょう。\n",
    " `datetime` 型は `datetime(year, month, day, minute, second) ` のように作成します（最後の 2 つは省略可能です）。"
   ]
  },
  {
   "cell_type": "code",
   "execution_count": 69,
   "metadata": {},
   "outputs": [],
   "source": [
    "today = datetime.datetime(2017, 9, 11)"
   ]
  },
  {
   "cell_type": "markdown",
   "metadata": {},
   "source": [
    " 追加するモジュール名が長くて、いちいち打つのが面倒な場合、 `import モジュール名 as 適当な名前` とすれば、指定した名前でモジュールを呼び出せます。"
   ]
  },
  {
   "cell_type": "code",
   "execution_count": 70,
   "metadata": {},
   "outputs": [
    {
     "data": {
      "text/plain": [
       "datetime.datetime(2017, 9, 11, 0, 0)"
      ]
     },
     "execution_count": 70,
     "metadata": {},
     "output_type": "execute_result"
    }
   ],
   "source": [
    "import datetime as dt\n",
    "dt.datetime(2017, 9, 11)"
   ]
  },
  {
   "cell_type": "markdown",
   "metadata": {},
   "source": [
    "## 属性 (Attribute)\n",
    " あるオブジェクトを作成した場合、そのオブジェクトには固有の変数が追加されることがあります。\n",
    " その変数を属性といいます。\n",
    " 例えば、`datetime`型の属性は、`year`, `month`, `day`, `mitute`, `second` などです。\n",
    " 属性を呼び出すには、`オブジェクト.属性名` とします。\n",
    " メソッドと違うのは、属性は関数ではなく、変数であるということです。\n",
    " なので、`()` といった引数は無用です。"
   ]
  },
  {
   "cell_type": "code",
   "execution_count": 71,
   "metadata": {},
   "outputs": [
    {
     "data": {
      "text/plain": [
       "2017"
      ]
     },
     "execution_count": 71,
     "metadata": {},
     "output_type": "execute_result"
    }
   ],
   "source": [
    "today = datetime.datetime(2017, 9, 11)\n",
    "today.year"
   ]
  },
  {
   "cell_type": "code",
   "execution_count": 72,
   "metadata": {},
   "outputs": [
    {
     "data": {
      "text/plain": [
       "9"
      ]
     },
     "execution_count": 72,
     "metadata": {},
     "output_type": "execute_result"
    }
   ],
   "source": [
    "today.month"
   ]
  },
  {
   "cell_type": "markdown",
   "metadata": {},
   "source": [
    "## 組み込み関数\n",
    " 最後に、Python の組み込み関数を少し見てみましょう。\n",
    " 完全な一覧は [ドキュメント](https://docs.python.jp/3/library/functions.html) を参照してください。"
   ]
  },
  {
   "cell_type": "markdown",
   "metadata": {},
   "source": [
    "### type: 型を調べる\n",
    " ある変数やモジュールの一部がデータ型なのか関数なのか、よくわからない場合は、`type` を使います。"
   ]
  },
  {
   "cell_type": "code",
   "execution_count": 73,
   "metadata": {},
   "outputs": [
    {
     "data": {
      "text/plain": [
       "int"
      ]
     },
     "execution_count": 73,
     "metadata": {},
     "output_type": "execute_result"
    }
   ],
   "source": [
    "type(1)"
   ]
  },
  {
   "cell_type": "code",
   "execution_count": 74,
   "metadata": {},
   "outputs": [
    {
     "data": {
      "text/plain": [
       "list"
      ]
     },
     "execution_count": 74,
     "metadata": {},
     "output_type": "execute_result"
    }
   ],
   "source": [
    "b = [1, 3]\n",
    "type(b)"
   ]
  },
  {
   "cell_type": "code",
   "execution_count": 75,
   "metadata": {},
   "outputs": [
    {
     "data": {
      "text/plain": [
       "function"
      ]
     },
     "execution_count": 75,
     "metadata": {},
     "output_type": "execute_result"
    }
   ],
   "source": [
    "def func_type():\n",
    "    print(1)\n",
    "\n",
    "type(func_type)"
   ]
  },
  {
   "cell_type": "markdown",
   "metadata": {},
   "source": [
    "### len: データ型の長さを調べる\n",
    " リストやタプル、文字列の長さを調べるときに使います。"
   ]
  },
  {
   "cell_type": "code",
   "execution_count": 76,
   "metadata": {},
   "outputs": [
    {
     "data": {
      "text/plain": [
       "2"
      ]
     },
     "execution_count": 76,
     "metadata": {},
     "output_type": "execute_result"
    }
   ],
   "source": [
    "len([3, 5])"
   ]
  },
  {
   "cell_type": "code",
   "execution_count": 77,
   "metadata": {},
   "outputs": [
    {
     "data": {
      "text/plain": [
       "5"
      ]
     },
     "execution_count": 77,
     "metadata": {},
     "output_type": "execute_result"
    }
   ],
   "source": [
    "three = 'three'\n",
    "len(three)"
   ]
  },
  {
   "cell_type": "markdown",
   "metadata": {},
   "source": [
    "### データ型を作る\n",
    " `int`, `float`, `str`, `list`, `tuple`, `dict` などは、指定の型に変換します。\n",
    " ただし、例えば文字列を整数型に変換することはできないなどの規則があります。"
   ]
  },
  {
   "cell_type": "code",
   "execution_count": 78,
   "metadata": {},
   "outputs": [
    {
     "data": {
      "text/plain": [
       "4"
      ]
     },
     "execution_count": 78,
     "metadata": {},
     "output_type": "execute_result"
    }
   ],
   "source": [
    "# 小数点型 -> 整数型\n",
    "int(4.6)"
   ]
  },
  {
   "cell_type": "code",
   "execution_count": 79,
   "metadata": {},
   "outputs": [
    {
     "data": {
      "text/plain": [
       "4.0"
      ]
     },
     "execution_count": 79,
     "metadata": {},
     "output_type": "execute_result"
    }
   ],
   "source": [
    "# 整数型 -> 小数点型\n",
    "float(4)"
   ]
  },
  {
   "cell_type": "code",
   "execution_count": 80,
   "metadata": {},
   "outputs": [
    {
     "data": {
      "text/plain": [
       "['s', 't', 'r', 'i', 'n', 'g']"
      ]
     },
     "execution_count": 80,
     "metadata": {},
     "output_type": "execute_result"
    }
   ],
   "source": [
    "# 文字列型 -> リスト\n",
    "list('string')"
   ]
  },
  {
   "cell_type": "code",
   "execution_count": 81,
   "metadata": {},
   "outputs": [
    {
     "data": {
      "text/plain": [
       "('s', 't', 'r', 'i', 'n', 'g')"
      ]
     },
     "execution_count": 81,
     "metadata": {},
     "output_type": "execute_result"
    }
   ],
   "source": [
    "# 文字列型 -> タプル\n",
    "tuple('string')"
   ]
  },
  {
   "cell_type": "code",
   "execution_count": 82,
   "metadata": {},
   "outputs": [
    {
     "data": {
      "text/plain": [
       "{'apple': 100, 'melon': 1000}"
      ]
     },
     "execution_count": 82,
     "metadata": {},
     "output_type": "execute_result"
    }
   ],
   "source": [
    "# リスト -> 辞書型\n",
    "dict([['apple', 100], ['melon', 1000]])"
   ]
  },
  {
   "cell_type": "code",
   "execution_count": 83,
   "metadata": {},
   "outputs": [
    {
     "data": {
      "text/plain": [
       "(1, 3, 5)"
      ]
     },
     "execution_count": 83,
     "metadata": {},
     "output_type": "execute_result"
    }
   ],
   "source": [
    "# リスト -> タプル\n",
    "tuple([1, 3, 5])"
   ]
  },
  {
   "cell_type": "code",
   "execution_count": 84,
   "metadata": {},
   "outputs": [
    {
     "data": {
      "text/plain": [
       "'[1, 3, 5]'"
      ]
     },
     "execution_count": 84,
     "metadata": {},
     "output_type": "execute_result"
    }
   ],
   "source": [
    "# リスト -> 文字列型\n",
    "str([1, 3, 5])"
   ]
  },
  {
   "cell_type": "code",
   "execution_count": 85,
   "metadata": {},
   "outputs": [
    {
     "data": {
      "text/plain": [
       "{'apple': 100, 'melon': 1000}"
      ]
     },
     "execution_count": 85,
     "metadata": {},
     "output_type": "execute_result"
    }
   ],
   "source": [
    "# タプル -> 辞書型\n",
    "dict((('apple', 100), ('melon', 1000)))"
   ]
  },
  {
   "cell_type": "code",
   "execution_count": 86,
   "metadata": {},
   "outputs": [
    {
     "data": {
      "text/plain": [
       "[1, 2, 3]"
      ]
     },
     "execution_count": 86,
     "metadata": {},
     "output_type": "execute_result"
    }
   ],
   "source": [
    "# タプル -> リスト\n",
    "list((1, 2, 3))"
   ]
  },
  {
   "cell_type": "code",
   "execution_count": 87,
   "metadata": {},
   "outputs": [
    {
     "data": {
      "text/plain": [
       "'(1, 2, 3)'"
      ]
     },
     "execution_count": 87,
     "metadata": {},
     "output_type": "execute_result"
    }
   ],
   "source": [
    "# タプル -> 文字列型\n",
    "str((1, 2, 3))"
   ]
  },
  {
   "cell_type": "code",
   "execution_count": 88,
   "metadata": {},
   "outputs": [
    {
     "data": {
      "text/plain": [
       "['apple', 'melon']"
      ]
     },
     "execution_count": 88,
     "metadata": {},
     "output_type": "execute_result"
    }
   ],
   "source": [
    "# 辞書 -> リスト\n",
    "list({'apple': 100, 'melon': 10000})"
   ]
  },
  {
   "cell_type": "code",
   "execution_count": 89,
   "metadata": {},
   "outputs": [
    {
     "data": {
      "text/plain": [
       "('apple', 'melon')"
      ]
     },
     "execution_count": 89,
     "metadata": {},
     "output_type": "execute_result"
    }
   ],
   "source": [
    "# 辞書 -> タプル\n",
    "tuple({'apple': 100, 'melon': 10000})"
   ]
  },
  {
   "cell_type": "code",
   "execution_count": 90,
   "metadata": {},
   "outputs": [
    {
     "data": {
      "text/plain": [
       "\"{'apple': 100, 'melon': 10000}\""
      ]
     },
     "execution_count": 90,
     "metadata": {},
     "output_type": "execute_result"
    }
   ],
   "source": [
    "# 辞書 -> 文字列型\n",
    "str({'apple': 100, 'melon': 10000})"
   ]
  }
 ],
 "metadata": {
  "file_extension": ".py",
  "kernelspec": {
   "display_name": "Python 3",
   "language": "python",
   "name": "python3"
  },
  "language_info": {
   "codemirror_mode": {
    "name": "ipython",
    "version": 3
   },
   "file_extension": ".py",
   "mimetype": "text/x-python",
   "name": "python",
   "nbconvert_exporter": "python",
   "pygments_lexer": "ipython3",
   "version": "3.6.8"
  },
  "mimetype": "text/x-python",
  "name": "python",
  "npconvert_exporter": "python",
  "pygments_lexer": "ipython3",
  "version": 3
 },
 "nbformat": 4,
 "nbformat_minor": 2
}
