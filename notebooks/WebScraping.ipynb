version https://git-lfs.github.com/spec/v1
oid sha256:00c8de877651d598077fc90a058e5a0a963960cbedfdf39e82ecd4b1aa8dd4ac
size 19689
