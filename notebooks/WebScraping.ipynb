{
 "cells": [
  {
   "cell_type": "markdown",
   "metadata": {},
   "source": [
    "# Web スクレイピング入門"
   ]
  },
  {
   "cell_type": "markdown",
   "metadata": {},
   "source": [
    " Python の使い方も学び、Web ページの構造も理解したので、早速 Web スクレイピングをしていきましょう。\n",
    " まず、このページでは手始めに [Yahoo news のトピックス一覧](https://news.yahoo.co.jp/topics) から、各記事のタイトルを収集することを目指します。"
   ]
  },
  {
   "cell_type": "markdown",
   "metadata": {},
   "source": [
    "## requests"
   ]
  },
  {
   "cell_type": "markdown",
   "metadata": {},
   "source": [
    " まず、python を使って、Web ページのコンテンツをとってみましょう。\n",
    " これには、 `requests` というモジュールを使います。\n",
    " Python にも似たようなものがありますが、 `requests` の方が使いやすいです。\n",
    " コンテンツが欲しい Web ページの URL について、 `requests.get(URL)` とすると、Web サーバーに Web ページのコンテンツを送ってくれという要求をすることができます。"
   ]
  },
  {
   "cell_type": "code",
   "execution_count": 1,
   "metadata": {},
   "outputs": [
    {
     "data": {
      "text/plain": [
       "200"
      ]
     },
     "execution_count": 1,
     "metadata": {},
     "output_type": "execute_result"
    }
   ],
   "source": [
    "import pandas as pd\n",
    "from bs4 import BeautifulSoup\n",
    "import requests\n",
    "url = \"https://news.yahoo.co.jp/topics\"\n",
    "response = requests.get(url)\n",
    "response.status_code"
   ]
  },
  {
   "cell_type": "markdown",
   "metadata": {},
   "source": [
    " 最後の行は、ステータスコードというものを表していてます。\n",
    " ステータスコードは Web サーバーへの要求が上手くいったかを判別することができるので、毎回チェックしておきましょう。\n",
    " 200 は、Web サーバーの要求が無事成功したことを示しています。\n",
    " ステータスコードは 200 以外にも、様々な値を返すので、やりながら学んでいけば良いでしょう。"
   ]
  },
  {
   "cell_type": "markdown",
   "metadata": {},
   "source": [
    "## BeautifulSoup"
   ]
  },
  {
   "cell_type": "markdown",
   "metadata": {},
   "source": [
    " 次に、Web ページのコンテンツからデータを取りやすいようにします。\n",
    " ここでは、`BeautifulSoup` を用います。\n",
    " `BeautifulSoup` は使い方がわかりやすいので、入門としては良いでしょう。"
   ]
  },
  {
   "cell_type": "code",
   "execution_count": 2,
   "metadata": {},
   "outputs": [],
   "source": [
    "bs = BeautifulSoup(response.content, \"lxml\")"
   ]
  },
  {
   "cell_type": "markdown",
   "metadata": {},
   "source": [
    " `lxml` というのは、htmlのパーサーの一つです。\n",
    " パーサーというのは、HTML を解析して分析しやすくしてくれます。\n",
    " また、タグの閉じ忘れなどを直してくれます。\n",
    " `BeautifulSoup` には 4 つほどのパーサーを使えますが、`lxml` は使いやすさと早さを兼ね備えているので、これを使います。\n",
    "\n",
    "  HTML の章で解説しましたが、Web ページは様々な要素が入れ子になっています。\n",
    " したがって、自分の欲しい情報をとるには、その情報が置いてある要素を上手く指定することが大事です。\n",
    " 要素を指定する方法は、CSS のところで解説しました。\n",
    " それでは、我々の欲しい情報は一体どこに位置しているのでしょうか？\n",
    "\n",
    " 実は、Google Chrome や　Firefox などのモダンブラウザには、それを分かりやすくする機能が備わっています。\n",
    " Web ページを開いて、`Ctrl + Shift + I` を押すか、右クリックを押してから、検証（インスペクタ）を押してみましょう。\n",
    " 画面が 2 分割され、左側に Web ページ、右側に html が表示されるでしょう。\n",
    " 右側の左上のカーソルのマークをクリックしてから、左側の適当なところを押してみましょう。\n",
    " すると、そのテキストが html 内のどこにあるかが、右側に表示されます。\n",
    "\n",
    " この機能を使って、欲しい情報はどこにあるのかを探っていきます。\n",
    " ここでは、トピックス一覧の内容が欲しいので、その内のどれかを押してみましょう。\n",
    " 一覧の内容は全てリンクが張られているので、 `a` 要素に含まれていることがわかりました。"
   ]
  },
  {
   "cell_type": "markdown",
   "metadata": {},
   "source": [
    " ![a](../image/inspect_a.png)"
   ]
  },
  {
   "cell_type": "markdown",
   "metadata": {},
   "source": [
    " `BeautifulSoup` は `select` で CSS セレクターを使うことができます。\n",
    " 下の例では `a` 要素を取ってきています。\n",
    " `select` は CSS セレクターで指定した要素をタグごとにリストに含めます。"
   ]
  },
  {
   "cell_type": "code",
   "execution_count": 3,
   "metadata": {},
   "outputs": [
    {
     "name": "stdout",
     "output_type": "stream",
     "text": [
      "152\n"
     ]
    }
   ],
   "source": [
    "print(len(bs.select('a')))"
   ]
  },
  {
   "cell_type": "markdown",
   "metadata": {},
   "source": [
    " 返ってくる要素が多すぎます。\n",
    " Web ページは多くのところでリンクを貼っているので、`a` 要素だと制限が緩すぎます。\n",
    " 別の方法を考えましょう。\n",
    " 各トピックの全体を検証してみると、トピック毎に `div` 要素でくくられていることがわかります。\n",
    " それでは、`div` 要素を指定してみましょう。"
   ]
  },
  {
   "cell_type": "markdown",
   "metadata": {},
   "source": [
    " ![ul](../image/inspect_div.png)"
   ]
  },
  {
   "cell_type": "code",
   "execution_count": 4,
   "metadata": {},
   "outputs": [],
   "source": [
    "# 表示は省略\n",
    "# bs.select('div')"
   ]
  },
  {
   "cell_type": "markdown",
   "metadata": {},
   "source": [
    " 先程よりはましですが、まだ余計なものが残っています。\n",
    " よく見ると、この `div` 要素には `topicsList` というクラス名が割り当てられています。\n",
    " `.topicsList` として、このクラスを持つ要素を取ってみましょう。"
   ]
  },
  {
   "cell_type": "code",
   "execution_count": 5,
   "metadata": {},
   "outputs": [
    {
     "data": {
      "text/plain": [
       "<div class=\"topicsList\"><p class=\"topicsList_title\"><a data-ylk=\"rsec:tpc_dom;slk:top;\" href=\"/categories/domestic\">国内</a></p><ul class=\"topicsList_main\"><li class=\"topicsListItem\" data-ual=\"\" data-ual-view-type=\"list\"><a data-ual-gotocontent=\"true\" data-ylk=\"rsec:tpc_dom;slk:title;pos:1;\" href=\"https://news.yahoo.co.jp/pickup/6333598\">各地猛暑 気象庁「命の危険」<span aria-label=\"NEW\" class=\"labelIcon labelIcon-NEW\"></span></a></li><li class=\"topicsListItem\" data-ual=\"\" data-ual-view-type=\"list\"><a data-ual-gotocontent=\"true\" data-ylk=\"rsec:tpc_dom;slk:title;pos:2;\" href=\"https://news.yahoo.co.jp/pickup/6333606\">Uターンピーク 各地で混雑<span aria-label=\"動画\" class=\"labelIcon labelIcon-VIDEO\"></span><span aria-label=\"NEW\" class=\"labelIcon labelIcon-NEW\"></span></a></li><li class=\"topicsListItem\" data-ual=\"\" data-ual-view-type=\"list\"><a data-ual-gotocontent=\"true\" data-ylk=\"rsec:tpc_dom;slk:title;pos:3;\" href=\"https://news.yahoo.co.jp/pickup/6333611\">悠仁さまブータン到着 初海外<span aria-label=\"NEW\" class=\"labelIcon labelIcon-NEW\"></span></a></li><li class=\"topicsListItem\" data-ual=\"\" data-ual-view-type=\"list\"><a data-ual-gotocontent=\"true\" data-ylk=\"rsec:tpc_dom;slk:title;pos:4;\" href=\"https://news.yahoo.co.jp/pickup/6333577\">アフリカ諸国と「2国間委」</a></li><li class=\"topicsListItem\" data-ual=\"\" data-ual-view-type=\"list\"><a data-ual-gotocontent=\"true\" data-ylk=\"rsec:tpc_dom;slk:title;pos:5;\" href=\"https://news.yahoo.co.jp/pickup/6333519\">北のミサイル 新型は3種類か</a></li><li class=\"topicsListItem\" data-ual=\"\" data-ual-view-type=\"list\"><a data-ual-gotocontent=\"true\" data-ylk=\"rsec:tpc_dom;slk:title;pos:6;\" href=\"https://news.yahoo.co.jp/pickup/6333567\">F35Bを正式導入 1機140億円</a></li><li class=\"topicsListItem\" data-ual=\"\" data-ual-view-type=\"list\"><a data-ual-gotocontent=\"true\" data-ylk=\"rsec:tpc_dom;slk:title;pos:7;\" href=\"https://news.yahoo.co.jp/pickup/6333548\">N国の炎上商法 報道への警鐘</a></li><li class=\"topicsListItem\" data-ual=\"\" data-ual-view-type=\"list\"><a data-ual-gotocontent=\"true\" data-ylk=\"rsec:tpc_dom;slk:title;pos:8;\" href=\"https://news.yahoo.co.jp/pickup/6333532\">そもそもなぜ?夫の実家へ帰省</a></li></ul><div class=\"topicsList_button\"><p class=\"topicsList_button_more\"><a data-ylk=\"rsec:tpc_dom;slk:more;\" href=\"/topics/domestic\">もっと見る</a></p></div></div>"
      ]
     },
     "execution_count": 5,
     "metadata": {},
     "output_type": "execute_result"
    }
   ],
   "source": [
    "topics = bs.select('.topicsList')\n",
    "topics[0]"
   ]
  },
  {
   "cell_type": "markdown",
   "metadata": {},
   "source": [
    " 上手くいきました！各トピックがリストの各要素に入ってます。\n",
    " それでは、ここからトピック毎に記事名を格納していきましょう。\n",
    " `topicsList_title` クラスには、トピックのカテゴリーが入ってます。\n",
    " 各 `li` 要素（あるいは、`topicsListItem` クラス）には、各記事が入っています。\n",
    " 要素ごとに分けたら、`text` メソッドを使って、要素の内容を取り出します。"
   ]
  },
  {
   "cell_type": "code",
   "execution_count": 6,
   "metadata": {},
   "outputs": [
    {
     "name": "stdout",
     "output_type": "stream",
     "text": [
      "国内\n",
      "各地猛暑 気象庁「命の危険」\n"
     ]
    }
   ],
   "source": [
    "print(topics[0].select('.topicsList_title')[0].text)\n",
    "print(topics[0].select('li')[0].text)"
   ]
  },
  {
   "cell_type": "markdown",
   "metadata": {},
   "source": [
    " この作業をループ化して、`dict = {トピックのタイトル:[記事A, 記事B]}` というように、辞書型にしていきます。"
   ]
  },
  {
   "cell_type": "code",
   "execution_count": 7,
   "metadata": {},
   "outputs": [],
   "source": [
    "news_topics = {}\n",
    "for topic in topics:\n",
    "    topic_title = topic.select('.topicsList_title')[0].text\n",
    "    news_topics[topic_title] = [news.text for news in topic.select('li')]\n"
   ]
  },
  {
   "cell_type": "code",
   "execution_count": 8,
   "metadata": {},
   "outputs": [
    {
     "data": {
      "text/plain": [
       "['各地猛暑 気象庁「命の危険」',\n",
       " 'Uターンピーク 各地で混雑',\n",
       " '悠仁さまブータン到着 初海外',\n",
       " 'アフリカ諸国と「2国間委」',\n",
       " '北のミサイル 新型は3種類か',\n",
       " 'F35Bを正式導入 1機140億円',\n",
       " 'N国の炎上商法 報道への警鐘',\n",
       " 'そもそもなぜ?夫の実家へ帰省']"
      ]
     },
     "execution_count": 8,
     "metadata": {},
     "output_type": "execute_result"
    }
   ],
   "source": [
    "news_topics['国内']"
   ]
  },
  {
   "cell_type": "markdown",
   "metadata": {},
   "source": [
    " `[news.text for news in topic.select('li')]` はリスト内包表記というものです。\n",
    " ここでは、`li` 要素を順に `news` に格納し、その要素の内容を `news.text` で取り出し、リストに入れていく処理をしています。\n",
    "\n",
    " ちなみに、さきほどの処理は次と同じです。"
   ]
  },
  {
   "cell_type": "code",
   "execution_count": 9,
   "metadata": {},
   "outputs": [],
   "source": [
    "# news_list = {}\n",
    "# for topic in topics:\n",
    "#       topic_title = topic.select('.topicsList_title')[0].text\n",
    "#       news_topics[topic_title] = []\n",
    "#       for news in topic.select('li'):\n",
    "#               news_topics[topic_title].append(news.text)\n",
    "#"
   ]
  },
  {
   "cell_type": "markdown",
   "metadata": {},
   "source": [
    " リスト内包表記は、普通にループ文を書くよりもスッキリとして書け、また早く処理することができます。"
   ]
  },
  {
   "cell_type": "markdown",
   "metadata": {},
   "source": [
    " せっかくなので、`pandas` の `DataFrame` に変換しましょう。\n",
    " `dict` から `DataFrame` にするには、`from_dict` を使います。"
   ]
  },
  {
   "cell_type": "code",
   "execution_count": 10,
   "metadata": {},
   "outputs": [
    {
     "data": {
      "text/html": [
       "<div>\n",
       "<style scoped>\n",
       "    .dataframe tbody tr th:only-of-type {\n",
       "        vertical-align: middle;\n",
       "    }\n",
       "\n",
       "    .dataframe tbody tr th {\n",
       "        vertical-align: top;\n",
       "    }\n",
       "\n",
       "    .dataframe thead th {\n",
       "        text-align: right;\n",
       "    }\n",
       "</style>\n",
       "<table border=\"1\" class=\"dataframe\">\n",
       "  <thead>\n",
       "    <tr style=\"text-align: right;\">\n",
       "      <th></th>\n",
       "      <th>国内</th>\n",
       "      <th>国際</th>\n",
       "      <th>経済</th>\n",
       "      <th>エンタメ</th>\n",
       "      <th>スポーツ</th>\n",
       "      <th>IT</th>\n",
       "      <th>科学</th>\n",
       "      <th>地域</th>\n",
       "    </tr>\n",
       "  </thead>\n",
       "  <tbody>\n",
       "    <tr>\n",
       "      <th>0</th>\n",
       "      <td>各地猛暑 気象庁「命の危険」</td>\n",
       "      <td>米 イラン船に差し押さえ令状</td>\n",
       "      <td>アルゼンチン、国債格下げ</td>\n",
       "      <td>弘中アナ ニッポン放送で特番</td>\n",
       "      <td>速報 仙台育英vs.敦賀気比</td>\n",
       "      <td>初期キズナアイ 活動休止せず</td>\n",
       "      <td>作り置きのお茶 賞味期限は</td>\n",
       "      <td>池袋遺族 前日に最後の電話</td>\n",
       "    </tr>\n",
       "    <tr>\n",
       "      <th>1</th>\n",
       "      <td>Uターンピーク 各地で混雑</td>\n",
       "      <td>米入国審査システムに障害</td>\n",
       "      <td>内定辞退予測 YKKなども購入</td>\n",
       "      <td>「中学生日記」ラジオで復活</td>\n",
       "      <td>星稜 タイブレーク制し8強</td>\n",
       "      <td>LINEグループ しんどいときは</td>\n",
       "      <td>猫アレルギー減 ワクチン開発</td>\n",
       "      <td>不正送金 容疑の大学生を逮捕</td>\n",
       "    </tr>\n",
       "    <tr>\n",
       "      <th>2</th>\n",
       "      <td>悠仁さまブータン到着 初海外</td>\n",
       "      <td>「新兵器」正恩氏指導と報道</td>\n",
       "      <td>調理が簡単 冷凍野菜の輸入増</td>\n",
       "      <td>テレビ「2時間枠」なぜ減少?</td>\n",
       "      <td>奥川 最速154キロ&amp;圧巻23K</td>\n",
       "      <td>7pay問題クオカード配布 なぜ</td>\n",
       "      <td>ヒマワリ 太陽追うのは咲く前</td>\n",
       "      <td>あおり殴打 43歳男を指名手配</td>\n",
       "    </tr>\n",
       "    <tr>\n",
       "      <th>3</th>\n",
       "      <td>アフリカ諸国と「2国間委」</td>\n",
       "      <td>五輪会議 北が一転来日せず</td>\n",
       "      <td>600人の村でもキャッシュレス</td>\n",
       "      <td>映画ドラクエ訴訟 争点を解説</td>\n",
       "      <td>甲子園応援「Gフレア」 躍進</td>\n",
       "      <td>Apple23日にHomePod日本発売</td>\n",
       "      <td>百日ぜき流行 1万人超の背景</td>\n",
       "      <td>仙台市選管 ミスが「恒例化」</td>\n",
       "    </tr>\n",
       "    <tr>\n",
       "      <th>4</th>\n",
       "      <td>北のミサイル 新型は3種類か</td>\n",
       "      <td>孤立深まる 正念場の文外交</td>\n",
       "      <td>顔ハメ聖地に?タワレコの狙い</td>\n",
       "      <td>浜崎あゆみ小説 来春連ドラに</td>\n",
       "      <td>大坂 全米前のけがに「嫌気」</td>\n",
       "      <td>大手3社 災害用伝言板を提供</td>\n",
       "      <td>160cm巨大ペンギン 化石発見</td>\n",
       "      <td>不自由展中止 検証委が初会合</td>\n",
       "    </tr>\n",
       "    <tr>\n",
       "      <th>5</th>\n",
       "      <td>F35Bを正式導入 1機140億円</td>\n",
       "      <td>キャセイ航空CEO 引責辞任</td>\n",
       "      <td>サンキューハザード 違反恐れ</td>\n",
       "      <td>吉本ではないサンド 増す勢い</td>\n",
       "      <td>水質悪化 W杯スイムを中止</td>\n",
       "      <td>楽天 携帯基地局の整備に遅れ</td>\n",
       "      <td>原爆小頭症 家族も苦難の人生</td>\n",
       "      <td>波にさらわれた11歳 遺体発見</td>\n",
       "    </tr>\n",
       "    <tr>\n",
       "      <th>6</th>\n",
       "      <td>N国の炎上商法 報道への警鐘</td>\n",
       "      <td>インドネシア 首都移転の提案</td>\n",
       "      <td>ガンダム最初は1年で打ち切り</td>\n",
       "      <td>HGら6人 関係者に謝罪行脚</td>\n",
       "      <td>錦織破った西岡 食中毒で棄権</td>\n",
       "      <td>京都の五山送り火 中止は誤解</td>\n",
       "      <td>台風が海吸い上げ 危険な高潮</td>\n",
       "      <td>プール事故 浮く遊具の危険性</td>\n",
       "    </tr>\n",
       "    <tr>\n",
       "      <th>7</th>\n",
       "      <td>そもそもなぜ?夫の実家へ帰省</td>\n",
       "      <td>米俳優P・フォンダさん死去</td>\n",
       "      <td>刺身に生野菜 常識超える駅弁</td>\n",
       "      <td>吉本興業の寄付 NPOが拒否</td>\n",
       "      <td>渋野 お菓子「タラタラ」封印</td>\n",
       "      <td>第一生命 スマホで保険加入</td>\n",
       "      <td>映像 ゾウが豆腐を鼻でつかむ</td>\n",
       "      <td>赤字に負けない 猫駅長相づち</td>\n",
       "    </tr>\n",
       "  </tbody>\n",
       "</table>\n",
       "</div>"
      ],
      "text/plain": [
       "                  国内              国際               経済            エンタメ  \\\n",
       "0     各地猛暑 気象庁「命の危険」  米 イラン船に差し押さえ令状     アルゼンチン、国債格下げ  弘中アナ ニッポン放送で特番   \n",
       "1      Uターンピーク 各地で混雑    米入国審査システムに障害  内定辞退予測 YKKなども購入   「中学生日記」ラジオで復活   \n",
       "2     悠仁さまブータン到着 初海外   「新兵器」正恩氏指導と報道   調理が簡単 冷凍野菜の輸入増  テレビ「2時間枠」なぜ減少?   \n",
       "3      アフリカ諸国と「2国間委」   五輪会議 北が一転来日せず  600人の村でもキャッシュレス  映画ドラクエ訴訟 争点を解説   \n",
       "4     北のミサイル 新型は3種類か   孤立深まる 正念場の文外交   顔ハメ聖地に?タワレコの狙い  浜崎あゆみ小説 来春連ドラに   \n",
       "5  F35Bを正式導入 1機140億円  キャセイ航空CEO 引責辞任   サンキューハザード 違反恐れ  吉本ではないサンド 増す勢い   \n",
       "6     N国の炎上商法 報道への警鐘  インドネシア 首都移転の提案   ガンダム最初は1年で打ち切り  HGら6人 関係者に謝罪行脚   \n",
       "7     そもそもなぜ?夫の実家へ帰省   米俳優P・フォンダさん死去   刺身に生野菜 常識超える駅弁  吉本興業の寄付 NPOが拒否   \n",
       "\n",
       "               スポーツ                    IT                科学               地域  \n",
       "0    速報 仙台育英vs.敦賀気比        初期キズナアイ 活動休止せず     作り置きのお茶 賞味期限は    池袋遺族 前日に最後の電話  \n",
       "1     星稜 タイブレーク制し8強      LINEグループ しんどいときは    猫アレルギー減 ワクチン開発   不正送金 容疑の大学生を逮捕  \n",
       "2  奥川 最速154キロ&圧巻23K      7pay問題クオカード配布 なぜ    ヒマワリ 太陽追うのは咲く前  あおり殴打 43歳男を指名手配  \n",
       "3    甲子園応援「Gフレア」 躍進  Apple23日にHomePod日本発売    百日ぜき流行 1万人超の背景   仙台市選管 ミスが「恒例化」  \n",
       "4    大坂 全米前のけがに「嫌気」        大手3社 災害用伝言板を提供  160cm巨大ペンギン 化石発見   不自由展中止 検証委が初会合  \n",
       "5     水質悪化 W杯スイムを中止        楽天 携帯基地局の整備に遅れ    原爆小頭症 家族も苦難の人生  波にさらわれた11歳 遺体発見  \n",
       "6    錦織破った西岡 食中毒で棄権        京都の五山送り火 中止は誤解    台風が海吸い上げ 危険な高潮   プール事故 浮く遊具の危険性  \n",
       "7    渋野 お菓子「タラタラ」封印         第一生命 スマホで保険加入    映像 ゾウが豆腐を鼻でつかむ   赤字に負けない 猫駅長相づち  "
      ]
     },
     "execution_count": 10,
     "metadata": {},
     "output_type": "execute_result"
    }
   ],
   "source": [
    "topics_dt = pd.DataFrame.from_dict(news_topics)\n",
    "topics_dt"
   ]
  }
 ],
 "metadata": {
  "file_extension": ".py",
  "kernelspec": {
   "display_name": "Python 3",
   "language": "python",
   "name": "python3"
  },
  "language_info": {
   "codemirror_mode": {
    "name": "ipython",
    "version": 3
   },
   "file_extension": ".py",
   "mimetype": "text/x-python",
   "name": "python",
   "nbconvert_exporter": "python",
   "pygments_lexer": "ipython3",
   "version": "3.6.8"
  },
  "mimetype": "text/x-python",
  "name": "python",
  "npconvert_exporter": "python",
  "pygments_lexer": "ipython3",
  "version": 3
 },
 "nbformat": 4,
 "nbformat_minor": 2
}
