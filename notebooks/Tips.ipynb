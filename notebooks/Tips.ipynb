{
 "cells": [
  {
   "cell_type": "markdown",
   "metadata": {},
   "source": [
    "# Tips"
   ]
  },
  {
   "cell_type": "code",
   "execution_count": 1,
   "metadata": {},
   "outputs": [],
   "source": [
    "import numpy as np"
   ]
  },
  {
   "cell_type": "markdown",
   "metadata": {},
   "source": [
    "## f-string\n",
    "　`string` 以外の変数の値を文字列に組み込みたい場合、f-string 記法というのがあります。\n",
    " これは、Python3.6 以上ではないと使えないのに注意してください。\n",
    " まずは、何も使わない場合。"
   ]
  },
  {
   "cell_type": "code",
   "execution_count": 2,
   "metadata": {},
   "outputs": [],
   "source": [
    "a = 0\n",
    "b = 2"
   ]
  },
  {
   "cell_type": "code",
   "execution_count": 3,
   "metadata": {},
   "outputs": [
    {
     "data": {
      "text/plain": [
       "'a の値は 0'"
      ]
     },
     "execution_count": 3,
     "metadata": {},
     "output_type": "execute_result"
    }
   ],
   "source": [
    "'a の値は ' + str(a)"
   ]
  },
  {
   "cell_type": "code",
   "execution_count": 4,
   "metadata": {},
   "outputs": [
    {
     "data": {
      "text/plain": [
       "'a の値は 0: a - b の値は -2'"
      ]
     },
     "execution_count": 4,
     "metadata": {},
     "output_type": "execute_result"
    }
   ],
   "source": [
    "'a の値は ' + str(a) + ': a - b の値は ' + str(a - b)"
   ]
  },
  {
   "cell_type": "markdown",
   "metadata": {},
   "source": [
    " 変数が一つの場合はまだ楽ですが、二つ、三つとなると面倒です。\n",
    " 実は、`format` メソッドというものがあり、これを使うことで、文字列に後から変数を代入できます。\n",
    " `format` メソッドは Python3.6 より前でも使えます。\n",
    " 変数を代入したい場所に `{}` をつけます。"
   ]
  },
  {
   "cell_type": "code",
   "execution_count": 5,
   "metadata": {},
   "outputs": [
    {
     "data": {
      "text/plain": [
       "'a の値は 0: a - b の値は -2'"
      ]
     },
     "execution_count": 5,
     "metadata": {},
     "output_type": "execute_result"
    }
   ],
   "source": [
    "'a の値は {}: a - b の値は {}'.format(a, a - b)"
   ]
  },
  {
   "cell_type": "markdown",
   "metadata": {},
   "source": [
    " `format` はキーワード引数も使えます。\n",
    " こちらのほうが可読性が良いです。"
   ]
  },
  {
   "cell_type": "code",
   "execution_count": 6,
   "metadata": {},
   "outputs": [
    {
     "data": {
      "text/plain": [
       "'a の値は 0: a - b の値は -2'"
      ]
     },
     "execution_count": 6,
     "metadata": {},
     "output_type": "execute_result"
    }
   ],
   "source": [
    "'a の値は {a}: a - b の値は {a_b}'.format(a = a, a_b = a - b)"
   ]
  },
  {
   "cell_type": "markdown",
   "metadata": {},
   "source": [
    " f-string 記法はキーワード引数を使った`format` メソッドに似てますが、`format` メソッドを付ける必要がありません。\n",
    " 代わりに、`f` を文字列の前につけます (`F` でも可）。"
   ]
  },
  {
   "cell_type": "code",
   "execution_count": 7,
   "metadata": {},
   "outputs": [
    {
     "data": {
      "text/plain": [
       "'a の値は 0: a - b の値は -2'"
      ]
     },
     "execution_count": 7,
     "metadata": {},
     "output_type": "execute_result"
    }
   ],
   "source": [
    "f'a の値は {a}: a - b の値は {a - b}'"
   ]
  },
  {
   "cell_type": "markdown",
   "metadata": {},
   "source": [
    " `{}` の中の変数はすでに定義されている必要があるのに注意してください。\n",
    " 下はエラーになります。"
   ]
  },
  {
   "cell_type": "code",
   "execution_count": 8,
   "metadata": {},
   "outputs": [],
   "source": [
    "# f'c の値は {c}'"
   ]
  },
  {
   "cell_type": "markdown",
   "metadata": {},
   "source": [
    " f-string および `format` はただ変数を代入するだけでなく、より柔軟に文字列の代入をすることができます。\n",
    " 例えば、ゼロ埋め（zero padding）や桁区切りなどが可能です。\n",
    " `{}` に代入したい変数名の後に `:` を入れ、その後に書式を指定します。"
   ]
  },
  {
   "cell_type": "code",
   "execution_count": 9,
   "metadata": {},
   "outputs": [
    {
     "name": "stdout",
     "output_type": "stream",
     "text": [
      "zero padding:  01234\n",
      "with conmma :  1,234\n"
     ]
    }
   ],
   "source": [
    "i = 1234\n",
    "print(f'zero padding: {i: 06}')\n",
    "print(f'with conmma :  {i:,}')"
   ]
  },
  {
   "cell_type": "markdown",
   "metadata": {},
   "source": [
    "## Python の bool 型と Numpy の bool 型の違い\n",
    " Python と Numpy にはどちらも bool 型がありますが、若干の違いがあります。\n",
    " 論理和などの挙動が一部異なるので、注意してください。"
   ]
  },
  {
   "cell_type": "markdown",
   "metadata": {},
   "source": [
    "### Python の bool 型\n",
    " Python での `bool` 型、`True`, `False` は `int` クラスのサブクラスです。\n",
    " つまり、True は 1, False は 0 と解釈される場合があります。\n",
    " 実際に見てみましょう。\n",
    " ビット単位演算子 `|` は論理和、`&` は論理積を返します。"
   ]
  },
  {
   "cell_type": "code",
   "execution_count": 10,
   "metadata": {},
   "outputs": [
    {
     "name": "stdout",
     "output_type": "stream",
     "text": [
      "True & True   : True\n",
      "True | True   : True\n",
      "True & False  : False\n",
      "True | False  : True\n",
      "False & False : False\n",
      "False | False : False\n"
     ]
    }
   ],
   "source": [
    "print(f'True & True   : {True & True}')\n",
    "print(f'True | True   : {True | True}')\n",
    "print(f'True & False  : {True & False}')\n",
    "print(f'True | False  : {True | False}')\n",
    "print(f'False & False : {False & False}')\n",
    "print(f'False | False : {False | False}')"
   ]
  },
  {
   "cell_type": "markdown",
   "metadata": {},
   "source": [
    " 一方で、和 `+` と差 `-` も定義されていますが、この場合は数値として計算されます。"
   ]
  },
  {
   "cell_type": "code",
   "execution_count": 11,
   "metadata": {},
   "outputs": [
    {
     "name": "stdout",
     "output_type": "stream",
     "text": [
      "True + True   : 2\n",
      "True - True   : 0\n",
      "True + False  : 1\n",
      "True - False  : 1\n",
      "False + False : 0\n",
      "False - False : 0\n"
     ]
    }
   ],
   "source": [
    "print(f'True + True   : {True + True}')\n",
    "print(f'True - True   : {True - True}')\n",
    "print(f'True + False  : {True + False}')\n",
    "print(f'True - False  : {True - False}')\n",
    "print(f'False + False : {False + False}')\n",
    "print(f'False - False : {False - False}')"
   ]
  },
  {
   "cell_type": "markdown",
   "metadata": {},
   "source": [
    "### Numpy での　bool 型\n",
    " Numpy での `bool` 型は `int` 型のサブクラスではありません。\n",
    " 論理和 `|`、論理積 `&` は Python の `bool` 型と同じです。\n",
    " ブール演算子 `and`, `or` も Python の `bool` 型と同じになります。"
   ]
  },
  {
   "cell_type": "code",
   "execution_count": 12,
   "metadata": {},
   "outputs": [],
   "source": [
    "true = np.array([True])\n",
    "false = np.array([False])"
   ]
  },
  {
   "cell_type": "code",
   "execution_count": 13,
   "metadata": {},
   "outputs": [
    {
     "name": "stdout",
     "output_type": "stream",
     "text": [
      "True & True   : [ True]\n",
      "True | True   : [ True]\n",
      "True & False  : [False]\n",
      "True | False  : [ True]\n",
      "False & False : [False]\n",
      "False | False : [False]\n"
     ]
    }
   ],
   "source": [
    "print(f'True & True   : {true & true}')\n",
    "print(f'True | True   : {true | true}')\n",
    "print(f'True & False  : {true & false}')\n",
    "print(f'True | False  : {true | false}')\n",
    "print(f'False & False : {false & false}')\n",
    "print(f'False | False : {false | false}')"
   ]
  },
  {
   "cell_type": "markdown",
   "metadata": {},
   "source": [
    "　一方で、和 `+` は論理和と同じであり、差 `-` は定義されません。"
   ]
  },
  {
   "cell_type": "code",
   "execution_count": 14,
   "metadata": {},
   "outputs": [
    {
     "name": "stdout",
     "output_type": "stream",
     "text": [
      "True + True   : [ True]\n",
      "True + False  : [ True]\n",
      "False + False : [False]\n"
     ]
    }
   ],
   "source": [
    "print(f'True + True   : {true + true}')\n",
    "# print(f'True - True   : {true - true}')\n",
    "print(f'True + False  : {true + false}')\n",
    "# print(f'True - False  : {true - false}')\n",
    "print(f'False + False : {false + false}')\n",
    "# print(f'False - False : {false - false}')"
   ]
  },
  {
   "cell_type": "markdown",
   "metadata": {},
   "source": [
    " ただし、どちらの `bool` 型も 数値型（`int`や`float`など）と足し引きができます。"
   ]
  },
  {
   "cell_type": "code",
   "execution_count": 15,
   "metadata": {},
   "outputs": [
    {
     "name": "stdout",
     "output_type": "stream",
     "text": [
      "True + 1: 2\n",
      "True - 1: 0\n",
      "np.array([True]) + 1: [2]\n",
      "np.array([True]) - 1: [0]\n"
     ]
    }
   ],
   "source": [
    "print(f'True + 1: {True + 1}')\n",
    "print(f'True - 1: {True - 1}')\n",
    "print(f'np.array([True]) + 1: {np.array([True]) + 1}')\n",
    "print(f'np.array([True]) - 1: {np.array([True]) - 1}')"
   ]
  },
  {
   "cell_type": "markdown",
   "metadata": {},
   "source": [
    " したがって、どちらも `sum` を使えば、`True` の数をカウントすることができます。\n",
    " これは、`sum` 関数が default で `0` を最初に足しているからです。\n",
    " なお、`numpy` の `sum` メソッドも同じです。"
   ]
  },
  {
   "cell_type": "code",
   "execution_count": 16,
   "metadata": {},
   "outputs": [
    {
     "name": "stdout",
     "output_type": "stream",
     "text": [
      "3\n",
      "2\n",
      "2\n"
     ]
    }
   ],
   "source": [
    "a = [True, False, True, True]\n",
    "b = np.array([True, True, False, False])\n",
    "print(sum(a))\n",
    "print(sum(b))\n",
    "print(b.sum())"
   ]
  },
  {
   "cell_type": "markdown",
   "metadata": {},
   "source": [
    "## 三項演算子\n",
    " `if ~ else` はインデント・ブロックが必要なため、どうしてもコードが長くなってしまいます。\n",
    " 三項演算子を使えば、１行で書くことができます。\n",
    " 次のように書きます。\n",
    " `変数 = 真の場合の値 if 条件式 else 偽の場合の値`"
   ]
  },
  {
   "cell_type": "code",
   "execution_count": 17,
   "metadata": {},
   "outputs": [
    {
     "data": {
      "text/plain": [
       "5"
      ]
     },
     "execution_count": 17,
     "metadata": {},
     "output_type": "execute_result"
    }
   ],
   "source": [
    "b = 5 if 3 == 3 else 9 # True\n",
    "# 下のコードは上と同じ\n",
    "# if 3 == 3:\n",
    "#     b = 5\n",
    "# else:\n",
    "#     b = 9\n",
    "b"
   ]
  },
  {
   "cell_type": "markdown",
   "metadata": {},
   "source": [
    " 長い文の場合は可読性が悪くなるので、使い所に注意してください。"
   ]
  },
  {
   "cell_type": "markdown",
   "metadata": {},
   "source": [
    "## 内包表記\n",
    " リスト、辞書などに逐次的に要素を足していく場合には、`for` ループも１行で書くことができます。\n",
    " これをリスト内包表記、辞書内包表記と言います。\n",
    " リスト内包表記は次のように書きます。"
   ]
  },
  {
   "cell_type": "code",
   "execution_count": 18,
   "metadata": {},
   "outputs": [
    {
     "data": {
      "text/plain": [
       "[0, 1, 2, 3, 4]"
      ]
     },
     "execution_count": 18,
     "metadata": {},
     "output_type": "execute_result"
    }
   ],
   "source": [
    "c = [i for i in range(5)]\n",
    "# 下と同じ\n",
    "# c = []\n",
    "# for i in range(5):\n",
    "#     c.append(i)\n",
    "c"
   ]
  },
  {
   "cell_type": "markdown",
   "metadata": {},
   "source": [
    " 辞書内包表記は次のように書きます。"
   ]
  },
  {
   "cell_type": "code",
   "execution_count": 19,
   "metadata": {},
   "outputs": [
    {
     "data": {
      "text/plain": [
       "{0: 0, 1: 1, 2: 2, 3: 3, 4: 4}"
      ]
     },
     "execution_count": 19,
     "metadata": {},
     "output_type": "execute_result"
    }
   ],
   "source": [
    "d = {i: i for i in range(5)}\n",
    "d"
   ]
  },
  {
   "cell_type": "markdown",
   "metadata": {},
   "source": [
    " `if` を用いて、条件式が真の場合のみ要素を足していくことや、三項演算子を入れることもできます。\n",
    " `if` の場合と `if ~ else` がある場合で少し書き方が違うので注意してください。"
   ]
  },
  {
   "cell_type": "code",
   "execution_count": 20,
   "metadata": {},
   "outputs": [
    {
     "data": {
      "text/plain": [
       "[0, 2, 4]"
      ]
     },
     "execution_count": 20,
     "metadata": {},
     "output_type": "execute_result"
    }
   ],
   "source": [
    "k = [i for i in range(5) if i % 2 == 0]\n",
    "# 下と同じ\n",
    "# k = []\n",
    "# for i in range(5):\n",
    "#   if i % 2 == 0:\n",
    "#       k.append(i)\n",
    "k"
   ]
  },
  {
   "cell_type": "code",
   "execution_count": 21,
   "metadata": {},
   "outputs": [
    {
     "data": {
      "text/plain": [
       "[0, 0, 2, 0, 4]"
      ]
     },
     "execution_count": 21,
     "metadata": {},
     "output_type": "execute_result"
    }
   ],
   "source": [
    "j = [i if i % 2 == 0 else 0 for i in range(5)]\n",
    "# 下と同じ\n",
    "# j = []\n",
    "# for i in range(5):\n",
    "#   if i % 2 == 0:\n",
    "#       j.append(i)\n",
    "#   else:\n",
    "#       j.append(0)\n",
    "j"
   ]
  },
  {
   "cell_type": "markdown",
   "metadata": {},
   "source": [
    " 三項演算子と同じように、長い文の場合は逆に読みにくくなるので注意してください。\n",
    " また、内包表記を使うと、`append` を使うよりも非常に高速に処理を行うことができます。\n",
    " 多くのループ作業が必要な場合は、内包表記か `numpy` を使うことを考えましょう。\n",
    " ちなみに、タプル内包表記というのはなく、`()` の内包表記はジェネレーター内包表記というものになります。"
   ]
  },
  {
   "cell_type": "code",
   "execution_count": 22,
   "metadata": {},
   "outputs": [
    {
     "data": {
      "text/plain": [
       "<generator object <genexpr> at 0x1120da570>"
      ]
     },
     "execution_count": 22,
     "metadata": {},
     "output_type": "execute_result"
    }
   ],
   "source": [
    "(i for i in range(5))\n"
   ]
  }
 ],
 "metadata": {
  "file_extension": ".py",
  "kernelspec": {
   "display_name": "Python 3",
   "language": "python",
   "name": "python3"
  },
  "language_info": {
   "codemirror_mode": {
    "name": "ipython",
    "version": 3
   },
   "file_extension": ".py",
   "mimetype": "text/x-python",
   "name": "python",
   "nbconvert_exporter": "python",
   "pygments_lexer": "ipython3",
   "version": "3.6.8"
  },
  "mimetype": "text/x-python",
  "name": "python",
  "npconvert_exporter": "python",
  "pygments_lexer": "ipython3",
  "version": 3
 },
 "nbformat": 4,
 "nbformat_minor": 2
}
