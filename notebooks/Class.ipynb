version https://git-lfs.github.com/spec/v1
oid sha256:02137c12eddd8bcd38f7eeaa442ea56d56d8cc4d63938eaf43510d1ce060dbbd
size 11236
