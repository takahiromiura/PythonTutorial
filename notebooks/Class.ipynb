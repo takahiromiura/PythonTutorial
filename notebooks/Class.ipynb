{
 "cells": [
  {
   "cell_type": "markdown",
   "metadata": {},
   "source": [
    "# \bPython Class"
   ]
  },
  {
   "cell_type": "markdown",
   "metadata": {},
   "source": [
    "## クラス"
   ]
  },
  {
   "cell_type": "markdown",
   "metadata": {},
   "source": [
    " 分析が複雑になると、多くの関数を書く必要がでてきます。\n",
    "\n",
    " ただし、多くの関数を書くと、様々な問題が出てきます。\n",
    "\n",
    " 長い関数を書くと、変更に弱くなります。\n",
    "\n",
    " また、途中の計算結果のみを取得したい場合は、その後の無駄な計算をしてしまいます。\n",
    "\n",
    " 一方で、短い関数に分けて作ると、管理が難しくなります。\n",
    "\n",
    " 例えば、ある関数はデータ A に関する操作、ある関数はデータ B に関する操作だった場合、どちらのデータの関数かを覚えておかないといけません。\n",
    "\n",
    " クラスを使えば、関数や変数をひとまとめにすることができ、そういった問題を解決することができます。"
   ]
  },
  {
   "cell_type": "markdown",
   "metadata": {},
   "source": [
    " クラスは、`class` によって定義します。"
   ]
  },
  {
   "cell_type": "code",
   "execution_count": 1,
   "metadata": {},
   "outputs": [],
   "source": [
    "class First:\n",
    "    \n",
    "    pass\n"
   ]
  },
  {
   "cell_type": "markdown",
   "metadata": {},
   "source": [
    "\n",
    " まず `First` というクラスを定義しました。\n",
    "\n",
    " 関数と同じように、クラスの内容をインデント・ブロック内に書いていきます。\n",
    "\n",
    " `pass` は何もしないという意味です。\n",
    "\n",
    " 何も書かないとエラーになるので、`pass` を書いています。\n",
    "\n",
    " 次のようにクラスを呼び出してみます。"
   ]
  },
  {
   "cell_type": "code",
   "execution_count": 2,
   "metadata": {},
   "outputs": [
    {
     "data": {
      "text/plain": [
       "__main__.First"
      ]
     },
     "execution_count": 2,
     "metadata": {},
     "output_type": "execute_result"
    }
   ],
   "source": [
    "First"
   ]
  },
  {
   "cell_type": "code",
   "execution_count": 3,
   "metadata": {},
   "outputs": [
    {
     "data": {
      "text/plain": [
       "<__main__.First at 0x118ddc4a8>"
      ]
     },
     "execution_count": 3,
     "metadata": {},
     "output_type": "execute_result"
    }
   ],
   "source": [
    "First()"
   ]
  },
  {
   "cell_type": "markdown",
   "metadata": {},
   "source": [
    "### インスタンス\n",
    " 上の　`First` と `First()` はどういった違いがあるのかはわかりませんが、大きな違いがあります。\n",
    "\n",
    " `First` はクラスを呼び出します。\n",
    "\n",
    " `First()` はクラスのインスタンスを返します。\n",
    "\n",
    " 例えるならば、クラス自体は設計図のようなものです。\n",
    "\n",
    " インスタンスは、その設計図をもとに作られた建造物のようなものです。\n",
    "\n",
    " なぜ、この違いが重要なのかは後ほど説明します。"
   ]
  },
  {
   "cell_type": "markdown",
   "metadata": {},
   "source": [
    "### 属性"
   ]
  },
  {
   "cell_type": "markdown",
   "metadata": {},
   "source": [
    " さきほどのクラスは、特に変数も関数も持っていないので、変数を付与しましょう。\n",
    "\n",
    " 次のように、インデント・ブロック内に変数を定義します。"
   ]
  },
  {
   "cell_type": "code",
   "execution_count": 4,
   "metadata": {},
   "outputs": [],
   "source": [
    "class Second:\n",
    "    \n",
    "    a = 100 #クラス属性\n",
    "    "
   ]
  },
  {
   "cell_type": "markdown",
   "metadata": {},
   "source": [
    " クラスの中で `a` という変数を定義しました。クラスが持つ変数を **属性** と呼びます。\n",
    "\n",
    " また、属性にはクラス属性とインスタンス属性があります。\n",
    "\n",
    " インデント・ブロック内で定義した変数はクラス属性です。\n",
    "\n",
    " インスタンス属性の作り方は後ほど説明します。\n",
    "\n",
    " 属性を参照するには、`クラス名.属性名` とします。"
   ]
  },
  {
   "cell_type": "code",
   "execution_count": 5,
   "metadata": {},
   "outputs": [
    {
     "data": {
      "text/plain": [
       "100"
      ]
     },
     "execution_count": 5,
     "metadata": {},
     "output_type": "execute_result"
    }
   ],
   "source": [
    "Second.a"
   ]
  },
  {
   "cell_type": "markdown",
   "metadata": {},
   "source": [
    "### メソッド\n",
    "\n",
    " 今度は、関数を持たせましょう。"
   ]
  },
  {
   "cell_type": "code",
   "execution_count": 6,
   "metadata": {},
   "outputs": [],
   "source": [
    "class Third:\n",
    "\n",
    "    def print_3(self):\n",
    "        print(3)\n"
   ]
  },
  {
   "cell_type": "markdown",
   "metadata": {},
   "source": [
    " クラスが持つ関数を **メソッド** と呼びます。メソッドの呼び出しは `クラス名.メソッド名` とします。"
   ]
  },
  {
   "cell_type": "code",
   "execution_count": 7,
   "metadata": {},
   "outputs": [
    {
     "name": "stdout",
     "output_type": "stream",
     "text": [
      "3\n"
     ]
    }
   ],
   "source": [
    "Third().print_3()"
   ]
  },
  {
   "cell_type": "markdown",
   "metadata": {},
   "source": [
    " メソッドで注意しなければならないのは、メソッドでは自動的に第 1 引数としてインスタンス自身が代入されます。\n",
    "\n",
    " Python では慣例的にこれを `self` としてます。\n",
    "\n",
    " メソッドはクラスではなく、インスタンスでなければ使えないことに注意してください。\n",
    "\n",
    " インスタンスを作ると、`self` が使えるようになります。\n",
    "\n",
    " 実際に、下のコードはエラーになります。"
   ]
  },
  {
   "cell_type": "code",
   "execution_count": 8,
   "metadata": {},
   "outputs": [],
   "source": [
    "# Third.print_3()"
   ]
  },
  {
   "cell_type": "markdown",
   "metadata": {},
   "source": [
    " クラスの中のメソッドで違うメソッドを呼び出す場合、また属性を呼び出す場合は、`self.メソッド名`、`self.属性名` とすればできます。\n",
    "\n",
    " こうすることによって、用途ごとに関数や変数をまとめ、内部で使い回すことができます。"
   ]
  },
  {
   "cell_type": "code",
   "execution_count": 9,
   "metadata": {},
   "outputs": [],
   "source": [
    "class Fourth:\n",
    "    \n",
    "    a = 100\n",
    "    \n",
    "    def print_a(self):\n",
    "        print(self.a) # 属性 a を出力\n",
    "        \n",
    "    def call_print(self):\n",
    "        self.print_a() # print_a メソッドの呼び出し\n"
   ]
  },
  {
   "cell_type": "code",
   "execution_count": 10,
   "metadata": {},
   "outputs": [
    {
     "name": "stdout",
     "output_type": "stream",
     "text": [
      "100\n",
      "100\n"
     ]
    }
   ],
   "source": [
    "Fourth().print_a()\n",
    "Fourth().call_print()"
   ]
  },
  {
   "cell_type": "markdown",
   "metadata": {},
   "source": [
    "### コンストラクタ\n",
    " 実は、インスタンスを作る際に、コンストラクタというメソッドが呼び出されます。\n",
    "\n",
    " Python では、`__init__` というのがそれで、init の前にアンダースコアを２つ前後に配置します。\n",
    "\n",
    " これらを特殊メソッドと呼び、クラスの振る舞いを変えることができます。\n",
    "\n",
    " コンストラクタに追加の引数を定義することによって、元の設計図に変化をつけたインスタンスを作れます。\n",
    "\n",
    " 例えば、アンケートのデータ整理を行う、`Survey` というクラスを作ったとしましょう。\n",
    "\n",
    " アンケートのデータ整理で行う操作はすべて共通ですが、いくつかの属性は異なるべきです（例えば、アンケートの実施年など）。\n",
    "\n",
    " 例えば、次のようにすれば、インスタンス属性を作ることができます。"
   ]
  },
  {
   "cell_type": "code",
   "execution_count": 11,
   "metadata": {},
   "outputs": [],
   "source": [
    "class Survey:\n",
    "\n",
    "    some_attribute = 0\n",
    "    a = 3\n",
    "\n",
    "    def __init__(self, year):\n",
    "        this_year = year\n",
    "        self.year = year\n",
    "\n",
    "    def print_a(self):\n",
    "        print(self.a)\n",
    "\n",
    "    def some_method(self):\n",
    "        pass\n"
   ]
  },
  {
   "cell_type": "code",
   "execution_count": 12,
   "metadata": {},
   "outputs": [
    {
     "name": "stdout",
     "output_type": "stream",
     "text": [
      "2018\n",
      "2019\n"
     ]
    }
   ],
   "source": [
    "survey2018 = Survey(year = 2018)\n",
    "survey2019 = Survey(year = 2019)\n",
    "print(survey2018.year)\n",
    "print(survey2019.year)"
   ]
  },
  {
   "cell_type": "markdown",
   "metadata": {},
   "source": [
    " クラス属性では、変数を定義すればクラス属性になりましたが、インスタンス属性は `self.属性名` としないとインスタンス属性になりません。\n",
    "\n",
    " 普通に変数を作成すると、ローカル変数になります。\n",
    "\n",
    " 実際、`__init__` メソッドで `this_year` という変数を定義していますが、メソッド外からは参照できません。"
   ]
  },
  {
   "cell_type": "code",
   "execution_count": 13,
   "metadata": {},
   "outputs": [],
   "source": [
    "# survey2019.this_year\n"
   ]
  },
  {
   "cell_type": "markdown",
   "metadata": {},
   "source": [
    "### 継承"
   ]
  },
  {
   "cell_type": "markdown",
   "metadata": {},
   "source": [
    " ほとんど年のアンケートではデータ整理の操作は同じですが、ある年だけ異なる操作と属性が必要だったとしましょう。\n",
    "\n",
    " **継承** を使うことによって、属性とメソッドを引き継いで、新たにクラスを定義することができます。\n",
    "\n",
    " クラスの定義の際に、`クラス名（継承クラス名）` とすることによって、継承を行うことができます。"
   ]
  },
  {
   "cell_type": "code",
   "execution_count": 14,
   "metadata": {},
   "outputs": [],
   "source": [
    "class SurveyExtra(Survey):\n",
    "    \n",
    "    b = 50 # 追加クラス属性\n",
    "    \n",
    "    def __init__(self, year, c):\n",
    "        super().__init__(year) # Survey のコントラクタ\n",
    "        self.c = c # 追加インスタンス属性\n",
    "        \n",
    "    def print_b(self): # 追加メソッド\n",
    "        print(self.b)\n"
   ]
  },
  {
   "cell_type": "markdown",
   "metadata": {},
   "source": [
    " 新たに定義した `SurveyExtra` は、継承した `Survey` の属性とメソッドを持っています。まずはそれを確認してみます。"
   ]
  },
  {
   "cell_type": "code",
   "execution_count": 15,
   "metadata": {},
   "outputs": [
    {
     "name": "stdout",
     "output_type": "stream",
     "text": [
      "3\n",
      "3\n"
     ]
    }
   ],
   "source": [
    "Survey2009 = SurveyExtra(year = 2009, c = 10)\n",
    "print(Survey2009.a)\n",
    "Survey2009.print_a()"
   ]
  },
  {
   "cell_type": "markdown",
   "metadata": {},
   "source": [
    " `SurveyExtra` で定義した属性とメソッドを呼び出します。"
   ]
  },
  {
   "cell_type": "code",
   "execution_count": 16,
   "metadata": {},
   "outputs": [
    {
     "name": "stdout",
     "output_type": "stream",
     "text": [
      "50\n",
      "50\n"
     ]
    }
   ],
   "source": [
    "print(Survey2009.b)\n",
    "Survey2009.print_b()"
   ]
  },
  {
   "cell_type": "markdown",
   "metadata": {},
   "source": [
    " 継承したクラスと同じ名前のメソッドを定義すると、継承したクラスのメソッドは上書きされますが、`super()` を使えば継承したクラスを呼び出すことができます。\n",
    "\n",
    " これによって、例えば `Survey` のインスタンス属性に新たにインスタンス属性を追加できます。\n",
    "\n",
    " `SurveyExtra` のコントラクタを詳しく解説すると、\n",
    " 1. まず引数に `Survey` のコントラクタで必要だった `year` と、新たに `b` という引数を追加しています。\n",
    " 2. `super().__init__(year)` によって、`Survey` のコントラクタを実行しています。これによってインスタンス属性 `year` が付与されました。\n",
    " 3. 最後に、 `self.c = c` で新たなインスタンス属性を付与しました。"
   ]
  }
 ],
 "metadata": {
  "file_extension": ".py",
  "kernelspec": {
   "display_name": "Python 3",
   "language": "python",
   "name": "python3"
  },
  "language_info": {
   "codemirror_mode": {
    "name": "ipython",
    "version": 3
   },
   "file_extension": ".py",
   "mimetype": "text/x-python",
   "name": "python",
   "nbconvert_exporter": "python",
   "pygments_lexer": "ipython3",
   "version": "3.6.8"
  },
  "mimetype": "text/x-python",
  "name": "python",
  "npconvert_exporter": "python",
  "pygments_lexer": "ipython3",
  "version": 3
 },
 "nbformat": 4,
 "nbformat_minor": 2
}
